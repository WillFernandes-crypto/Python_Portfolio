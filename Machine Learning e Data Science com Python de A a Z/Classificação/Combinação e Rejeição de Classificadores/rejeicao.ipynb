{
 "cells": [
  {
   "cell_type": "code",
   "execution_count": 1,
   "metadata": {},
   "outputs": [],
   "source": [
    "import numpy as np\n",
    "import pandas as pd\n",
    "import seaborn as sns\n",
    "import matplotlib.pyplot as plt\n",
    "import plotly.express as px\n",
    "import pickle"
   ]
  },
  {
   "cell_type": "code",
   "execution_count": 2,
   "metadata": {},
   "outputs": [],
   "source": [
    "with open('../data/credit.pkl', 'rb') as f:\n",
    "  X_credit_treinamento, y_credit_treinamento, X_credit_teste, y_credit_teste = pickle.load(f)"
   ]
  },
  {
   "cell_type": "code",
   "execution_count": 3,
   "metadata": {},
   "outputs": [],
   "source": [
    "X_credit = np.concatenate((X_credit_treinamento, X_credit_teste), axis = 0)\n",
    "y_credit = np.concatenate((y_credit_treinamento, y_credit_teste), axis = 0)"
   ]
  },
  {
   "cell_type": "code",
   "execution_count": 4,
   "metadata": {},
   "outputs": [],
   "source": [
    "rede_neural = pickle.load(open('../data/saved/rede_neural_finalizado.sav', 'rb'))\n",
    "arvore = pickle.load(open('../data/saved/arvore_finalizado.sav', 'rb'))\n",
    "svm = pickle.load(open('../data/saved/svm_finalizado.sav', 'rb'))"
   ]
  },
  {
   "cell_type": "code",
   "execution_count": 5,
   "metadata": {},
   "outputs": [
    {
     "data": {
      "text/plain": [
       "(array([[-1.03572293, -0.93978122,  0.04244312]]), (1, 3))"
      ]
     },
     "execution_count": 5,
     "metadata": {},
     "output_type": "execute_result"
    }
   ],
   "source": [
    "novo_registro = X_credit[1999]\n",
    "novo_registro = novo_registro.reshape(1, -1)\n",
    "novo_registro, novo_registro.shape"
   ]
  },
  {
   "cell_type": "code",
   "execution_count": 6,
   "metadata": {},
   "outputs": [],
   "source": [
    "resposta_rede_neural = rede_neural.predict(novo_registro)\n",
    "resposta_arvore = arvore.predict(novo_registro)\n",
    "resposta_svm = svm.predict(novo_registro)"
   ]
  },
  {
   "cell_type": "code",
   "execution_count": 7,
   "metadata": {},
   "outputs": [
    {
     "data": {
      "text/plain": [
       "(1, 1, 1)"
      ]
     },
     "execution_count": 7,
     "metadata": {},
     "output_type": "execute_result"
    }
   ],
   "source": [
    "resposta_rede_neural[0], resposta_arvore[0], resposta_svm[0]"
   ]
  },
  {
   "cell_type": "code",
   "execution_count": 8,
   "metadata": {},
   "outputs": [
    {
     "data": {
      "text/plain": [
       "array([[8.86064242e-05, 9.99911394e-01]])"
      ]
     },
     "execution_count": 8,
     "metadata": {},
     "output_type": "execute_result"
    }
   ],
   "source": [
    "probabilidade_rede_neural = rede_neural.predict_proba(novo_registro)\n",
    "probabilidade_rede_neural"
   ]
  },
  {
   "cell_type": "code",
   "execution_count": 9,
   "metadata": {},
   "outputs": [
    {
     "data": {
      "text/plain": [
       "0.9999113935757549"
      ]
     },
     "execution_count": 9,
     "metadata": {},
     "output_type": "execute_result"
    }
   ],
   "source": [
    "confianca_rede_neural = probabilidade_rede_neural.max()\n",
    "confianca_rede_neural"
   ]
  },
  {
   "cell_type": "code",
   "execution_count": 10,
   "metadata": {},
   "outputs": [
    {
     "data": {
      "text/plain": [
       "1.0"
      ]
     },
     "execution_count": 10,
     "metadata": {},
     "output_type": "execute_result"
    }
   ],
   "source": [
    "probabilidade_arvore = arvore.predict_proba(novo_registro)\n",
    "confianca_arvore = probabilidade_arvore.max()\n",
    "confianca_arvore"
   ]
  },
  {
   "cell_type": "code",
   "execution_count": 11,
   "metadata": {},
   "outputs": [
    {
     "data": {
      "text/plain": [
       "0.990460376181402"
      ]
     },
     "execution_count": 11,
     "metadata": {},
     "output_type": "execute_result"
    }
   ],
   "source": [
    "probabilidade_svm = svm.predict_proba(novo_registro)\n",
    "confianca_svm = probabilidade_svm.max()\n",
    "confianca_svm"
   ]
  },
  {
   "cell_type": "code",
   "execution_count": 12,
   "metadata": {},
   "outputs": [
    {
     "name": "stdout",
     "output_type": "stream",
     "text": [
      "Cliente não pagará o empréstimo, baseado em 1 algoritmos\n"
     ]
    }
   ],
   "source": [
    "paga = 0\n",
    "nao_paga = 0\n",
    "confianca_minima = 0.999999\n",
    "algoritmos = 0\n",
    "\n",
    "if confianca_rede_neural >= confianca_minima:\n",
    "  algoritmos += 1\n",
    "  if resposta_rede_neural[0] == 1:\n",
    "    nao_paga += 1\n",
    "  else:\n",
    "    paga += 1\n",
    "\n",
    "if confianca_arvore >= confianca_minima:\n",
    "  algoritmos += 1\n",
    "  if resposta_arvore[0] == 1:\n",
    "    nao_paga += 1\n",
    "  else:\n",
    "    paga += 1\n",
    "\n",
    "if confianca_svm >= confianca_minima:\n",
    "  algoritmos += 1\n",
    "  if resposta_svm[0] == 1:\n",
    "    nao_paga += 1\n",
    "  else:\n",
    "    paga += 1\n",
    "\n",
    "if paga > nao_paga:\n",
    "  print('Cliente pagará o empréstimo, baseado em {} algoritmos'.format(algoritmos))\n",
    "elif paga == nao_paga:\n",
    "  print('Empate, baseado em {} algoritmos'.format(algoritmos))\n",
    "else:\n",
    "  print('Cliente não pagará o empréstimo, baseado em {} algoritmos'.format(algoritmos))"
   ]
  }
 ],
 "metadata": {
  "kernelspec": {
   "display_name": "Python 3",
   "language": "python",
   "name": "python3"
  },
  "language_info": {
   "codemirror_mode": {
    "name": "ipython",
    "version": 3
   },
   "file_extension": ".py",
   "mimetype": "text/x-python",
   "name": "python",
   "nbconvert_exporter": "python",
   "pygments_lexer": "ipython3",
   "version": "3.12.4"
  }
 },
 "nbformat": 4,
 "nbformat_minor": 2
}
