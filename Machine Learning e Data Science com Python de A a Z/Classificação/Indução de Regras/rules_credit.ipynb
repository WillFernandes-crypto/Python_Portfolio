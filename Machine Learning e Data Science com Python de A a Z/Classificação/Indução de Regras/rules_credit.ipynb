{
 "cells": [
  {
   "cell_type": "code",
   "execution_count": 1,
   "metadata": {},
   "outputs": [],
   "source": [
    "import numpy as np\n",
    "import pandas as pd\n",
    "import seaborn as sns\n",
    "import matplotlib.pyplot as plt\n",
    "import plotly.express as px\n",
    "import pickle\n",
    "import Orange"
   ]
  },
  {
   "cell_type": "code",
   "execution_count": 2,
   "metadata": {},
   "outputs": [
    {
     "data": {
      "text/plain": [
       "[[66155.9, 59.017, 8106.53 | 0],\n",
       " [34415.2, 48.1172, 6564.75 | 0],\n",
       " [57317.2, 63.108, 8020.95 | 0],\n",
       " [42709.5, 45.752, 6103.64 | 0],\n",
       " [66952.7, 18.5843, 8770.1 | 1],\n",
       " ...\n",
       "]"
      ]
     },
     "execution_count": 2,
     "metadata": {},
     "output_type": "execute_result"
    }
   ],
   "source": [
    "base = Orange.data.Table(\"../data/credit_data_regras.csv\")\n",
    "base"
   ]
  },
  {
   "cell_type": "code",
   "execution_count": 3,
   "metadata": {},
   "outputs": [
    {
     "data": {
      "text/plain": [
       "[income, age, loan | default]"
      ]
     },
     "execution_count": 3,
     "metadata": {},
     "output_type": "execute_result"
    }
   ],
   "source": [
    "base.domain"
   ]
  },
  {
   "cell_type": "code",
   "execution_count": 4,
   "metadata": {},
   "outputs": [],
   "source": [
    "divided_base = Orange.evaluation.testing.sample(base, n=0.25)"
   ]
  },
  {
   "cell_type": "code",
   "execution_count": 5,
   "metadata": {},
   "outputs": [
    {
     "data": {
      "text/plain": [
       "([[26922.5, 44.1556, 3950 | 0],\n",
       "  [37389.8, 34.4422, 7365.94 | 1],\n",
       "  [55883.6, 27.3703, 974.563 | 0],\n",
       "  [20146, 21.2828, 839.839 | 0],\n",
       "  [68114.1, 47.1952, 4325.1 | 0],\n",
       "  ...\n",
       " ],\n",
       " [[57914.7, 50.6116, 6715.86 | 0],\n",
       "  [34730.2, 63.3762, 818.508 | 0],\n",
       "  [68052.8, 28.7588, 1415.72 | 0],\n",
       "  [53298.5, 56.9097, 2106.71 | 0],\n",
       "  [49054.9, 54.0687, 1102.24 | 0],\n",
       "  ...\n",
       " ])"
      ]
     },
     "execution_count": 5,
     "metadata": {},
     "output_type": "execute_result"
    }
   ],
   "source": [
    "divided_base"
   ]
  },
  {
   "cell_type": "code",
   "execution_count": 6,
   "metadata": {},
   "outputs": [],
   "source": [
    "base_train = divided_base[1]\n",
    "base_test = divided_base[0]"
   ]
  },
  {
   "cell_type": "code",
   "execution_count": 7,
   "metadata": {},
   "outputs": [
    {
     "data": {
      "text/plain": [
       "(1500, 500)"
      ]
     },
     "execution_count": 7,
     "metadata": {},
     "output_type": "execute_result"
    }
   ],
   "source": [
    "len(base_train), len(base_test)"
   ]
  },
  {
   "cell_type": "code",
   "execution_count": 8,
   "metadata": {},
   "outputs": [],
   "source": [
    "cn2_learner = Orange.classification.rules.CN2Learner()\n",
    "rules = cn2_learner(base)"
   ]
  },
  {
   "cell_type": "code",
   "execution_count": 9,
   "metadata": {},
   "outputs": [
    {
     "name": "stdout",
     "output_type": "stream",
     "text": [
      "IF age>=34.9257164876908 THEN default=0 \n",
      "IF loan<=2495.13299137587 AND income>=20145.9885970689 THEN default=0 \n",
      "IF loan>=7708.31562497011 AND loan>=9601.375482171099 THEN default=1 \n",
      "IF loan>=7708.31562497011 AND loan>=9595.28628892989 THEN default=0 \n",
      "IF loan>=7708.31562497011 AND age>=20.9909665295854 THEN default=1 \n",
      "IF income>=58132.4712652713 AND age>=20.3008601283655 THEN default=0 \n",
      "IF income<=31702.3342987522 AND loan>=3665.88089899456 THEN default=1 \n",
      "IF loan<=5836.56338145928 AND income>=45971.133494749694 THEN default=0 \n",
      "IF income<=22089.8374845274 AND age>=21.3656869572587 THEN default=1 \n",
      "IF age<=18.075335860718 AND age>=18.075335860718 THEN default=1 \n",
      "IF income>=32720.504798926402 AND age>=34.669146894011604 THEN default=1 \n",
      "IF age>=34.645415822044 THEN default=0 \n",
      "IF loan>=4849.33378471958 AND loan>=7181.4785525792595 AND age>=18.621307099238 THEN default=1 \n",
      "IF income>=52841.5164374746 AND income>=66952.68884534019 THEN default=1 \n",
      "IF income>=57787.565658800304 THEN default=0 \n",
      "IF age>=34.1016539284028 THEN default=0 \n",
      "IF age>=33.6895613595843 THEN default=1 \n",
      "IF age>=33.403173910453894 THEN default=0 \n",
      "IF age>=32.8975483207032 THEN default=1 \n",
      "IF loan>=4849.33378471958 AND loan>=6241.27050834808 THEN default=1 \n",
      "IF income>=52841.5164374746 THEN default=0 \n",
      "IF income>=45898.513523861795 THEN default=1 \n",
      "IF income>=45311.831838917 THEN default=0 \n",
      "IF income>=44471.873731818094 THEN default=1 \n",
      "IF loan>=4849.33378471958 AND loan>=5233.66322803221 THEN default=1 \n",
      "IF income>=38042.0841556042 AND income>=40496.2558229454 THEN default=0 \n",
      "IF loan>=4625.19337762744 THEN default=1 \n",
      "IF income>=29724.4768752716 AND income>=33489.0398592688 THEN default=0 \n",
      "IF age>=32.516422502230895 THEN default=1 \n",
      "IF income>=33198.1282844208 THEN default=1 \n",
      "IF income>=29724.4768752716 THEN default=0 \n",
      "IF age>=26.159438316244604 THEN default=0 \n",
      "IF income>=25640.0788831525 THEN default=1 \n",
      "IF income<=24857.6948815025 THEN default=0 \n",
      "IF income<=25146.5956843458 THEN default=0 \n",
      "IF TRUE THEN default=0 \n"
     ]
    }
   ],
   "source": [
    "for r in rules.rule_list:\n",
    "    print(r)"
   ]
  },
  {
   "cell_type": "code",
   "execution_count": 10,
   "metadata": {},
   "outputs": [],
   "source": [
    "predictions = Orange.evaluation.testing.TestOnTestData(base_train, base_test, [lambda testdata: rules])"
   ]
  },
  {
   "cell_type": "code",
   "execution_count": 11,
   "metadata": {},
   "outputs": [
    {
     "data": {
      "text/plain": [
       "<Orange.evaluation.testing.Results at 0x11a648c9850>"
      ]
     },
     "execution_count": 11,
     "metadata": {},
     "output_type": "execute_result"
    }
   ],
   "source": [
    "predictions"
   ]
  },
  {
   "cell_type": "code",
   "execution_count": 14,
   "metadata": {},
   "outputs": [
    {
     "data": {
      "text/plain": [
       "array([1.])"
      ]
     },
     "execution_count": 14,
     "metadata": {},
     "output_type": "execute_result"
    }
   ],
   "source": [
    "result = Orange.evaluation.CA(predictions)\n",
    "result"
   ]
  }
 ],
 "metadata": {
  "kernelspec": {
   "display_name": "Python 3",
   "language": "python",
   "name": "python3"
  },
  "language_info": {
   "codemirror_mode": {
    "name": "ipython",
    "version": 3
   },
   "file_extension": ".py",
   "mimetype": "text/x-python",
   "name": "python",
   "nbconvert_exporter": "python",
   "pygments_lexer": "ipython3",
   "version": "3.12.4"
  }
 },
 "nbformat": 4,
 "nbformat_minor": 2
}
