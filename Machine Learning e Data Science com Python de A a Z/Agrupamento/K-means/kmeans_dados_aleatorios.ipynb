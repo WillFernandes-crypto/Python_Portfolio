{
 "cells": [
  {
   "cell_type": "code",
   "execution_count": 38,
   "metadata": {},
   "outputs": [],
   "source": [
    "import plotly.express as px\n",
    "import plotly.graph_objects as go\n",
    "import numpy as np\n",
    "\n",
    "from sklearn.preprocessing import StandardScaler\n",
    "from sklearn.cluster import KMeans\n",
    "from sklearn.datasets import make_blobs"
   ]
  },
  {
   "cell_type": "code",
   "execution_count": 39,
   "metadata": {},
   "outputs": [],
   "source": [
    "X, y = make_blobs(n_samples=200, centers=5, random_state=1)"
   ]
  },
  {
   "cell_type": "code",
   "execution_count": 40,
   "metadata": {},
   "outputs": [
    {
     "data": {
      "application/vnd.plotly.v1+json": {
       "config": {
        "plotlyServerURL": "https://plot.ly"
       },
       "data": [
        {
         "hovertemplate": "x=%{x}<br>y=%{y}<extra></extra>",
         "legendgroup": "",
         "marker": {
          "color": "#636efa",
          "symbol": "circle"
         },
         "mode": "markers",
         "name": "",
         "orientation": "v",
         "showlegend": false,
         "type": "scatter",
         "x": [
          -1.9657639185768914,
          -5.160223475316758,
          -6.179370685255325,
          -7.391381681735923,
          -6.384812343779634,
          -6.261443096099406,
          -2.0427876787600487,
          -4.464260858321126,
          -6.403861896059046,
          0.00024227116135100424,
          -5.992120060198162,
          -6.461374765958048,
          -4.101851741067396,
          -10.134157247549135,
          -5.990047661597524,
          -1.1466300855305107,
          -1.1710417594110225,
          -9.195851471781756,
          -8.301735560199136,
          -7.563095747288817,
          -1.8684541393232976,
          -4.223622329589138,
          -1.908386665116518,
          -6.52897564005395,
          -3.0865364600279106,
          -9.468247179300391,
          -6.2539305108541825,
          -3.0616703109162837,
          -2.506879794899774,
          -10.178632805731251,
          -7.926198544433781,
          -2.513388548058224,
          -1.6173461592329268,
          -5.998296467624399,
          -8.739077991276671,
          -1.8513954583101344,
          -8.723956573494325,
          -7.765280688578994,
          -9.875891232661665,
          -2.100018440265312,
          -8.284626580636772,
          -9.151551856068068,
          -2.301087467199588,
          -1.211369293430979,
          -8.715603449481838,
          -1.4466649814662667,
          -10.18428227556045,
          -7.391265790331326,
          -6.078546995836497,
          -1.3439249587069142,
          -1.7824501314671677,
          -5.65299226814101,
          -7.152077291364771,
          -1.9819771099620271,
          -7.230221034820271,
          -9.502501179675141,
          0.08525185826796045,
          -4.5710911680626625,
          -5.65734218341651,
          -7.185346755446246,
          -9.5942208618623,
          -7.056707455133383,
          -5.4797696780217375,
          -5.656256641660289,
          -5.506076643037879,
          -0.19745196890354544,
          -1.359389585992692,
          -9.477136166579731,
          -2.4762896785750836,
          -6.502121087038712,
          -10.02232945952888,
          -1.211946453661315,
          -5.9504992068779465,
          -3.6034437611312446,
          -0.6132212547956659,
          -10.341566179224177,
          -6.561697370222412,
          -9.067880772593123,
          -2.346732606068119,
          0.07317755205288101,
          -8.958887901793688,
          -10.263931009656723,
          -5.9084637579065244,
          -6.4058323875575285,
          -7.00039289158101,
          -1.8319881134989553,
          -8.337440938903733,
          -7.610656351640307,
          -8.247200310167372,
          -9.556348060084519,
          -0.22993288873691453,
          -5.438791053012314,
          -1.9274479855745354,
          -2.4875074767773766,
          -6.619782982601562,
          -9.980303095353097,
          -1.0545233380518768,
          -0.757969185355724,
          -5.904543613663969,
          -8.876294795417436,
          -2.4139578469451726,
          -4.536556476851341,
          -3.3711845882306197,
          -9.647166524988995,
          -2.5400233905245835,
          -6.441520007079706,
          -9.74891334226533,
          -7.02121319047935,
          -5.515990112348652,
          0.5260155005846419,
          -3.243938660074552,
          -6.410773098547172,
          -8.183997582217467,
          -11.855694368099854,
          -5.845269632424618,
          -2.8020781039706595,
          -11.227770639320063,
          -3.8205761556194533,
          -0.5257904636130821,
          -0.7587039566841077,
          -6.7842171065351,
          -9.574218149588988,
          -10.617713347601232,
          -4.209012452227748,
          -1.5394009534668904,
          -9.765217944474363,
          -6.46256290336211,
          -2.2597078562625024,
          -4.874182454688006,
          -4.007973921054954,
          -0.5279305184970926,
          -1.5495769017472356,
          -4.886016376076314,
          -6.2140455766470755,
          -10.372997453743215,
          -9.257156052556827,
          -7.104967667761696,
          -2.760179083161441,
          -3.103673711378109,
          -5.151383610424647,
          -6.3593037998512125,
          -5.85749376747172,
          -1.8818880485588787,
          -2.7768702545837973,
          -2.622145237172645,
          -7.627187614676829,
          -3.491205935907133,
          -2.406718199699357,
          -6.822212742575944,
          -6.258268205140967,
          -3.937811493021903,
          -5.653713071607574,
          -1.340520809891421,
          -2.1806357008589976,
          -6.5538934939898725,
          -10.4448410684391,
          -8.798794623751593,
          -9.204905637733754,
          -1.6087521511724905,
          -7.175329210075055,
          -1.626484168095364,
          -1.4729985149602352,
          -11.370829823899857,
          -1.4686444212810534,
          -2.9985651710131025,
          -9.919891375740395,
          -8.370061750504195,
          -10.668374789942131,
          -5.782459216509934,
          -2.232849355131317,
          -10.036408012919152,
          -1.6974187015027367,
          -2.1746420055502083,
          -6.140747575891959,
          -0.8205764920740146,
          -8.396833850174987,
          -1.480003904909175,
          -6.168573048411365,
          -7.711798871912647,
          -1.3739725806942609,
          -7.066773666495743,
          -2.351220657673829,
          -1.4294651705841361,
          -5.733425071070147,
          -11.196980535988288,
          -1.6034864154095838,
          -10.51480696157333,
          -2.3308060367853387,
          -1.499522836500689,
          -7.715671796738422,
          -7.465760375446665,
          -2.7704910227888853,
          -1.4612601858217498,
          -9.128826346647234,
          -10.30782927717116,
          -2.302592451138784,
          -5.620215619859882,
          -2.765994941643778,
          -5.447932584800439,
          -11.092624349394143
         ],
         "xaxis": "x",
         "y": [
          5.234464511450407,
          -7.04217140606354,
          -2.167335390479533,
          -9.495903894001481,
          -8.473029703522716,
          -3.783479054426271,
          0.30766086378924756,
          -4.394512381696782,
          -6.361069895648478,
          5.148534029420497,
          -3.914882890986365,
          -3.145609940024892,
          -1.1662545014093166,
          -4.072402735138015,
          -2.826318013675776,
          4.108397033740446,
          4.330918155822106,
          -3.906781248939059,
          -7.277389176974745,
          -8.464213082926896,
          4.993113060025359,
          -2.5031234589666624,
          0.5861136549822774,
          -1.6889415166580588,
          1.5708629196682211,
          -3.8156473373658186,
          -7.108786009916786,
          0.6695406932879138,
          1.099862033668571,
          -4.557269175156462,
          -7.478516578936072,
          0.10388664128054259,
          4.9893050825589835,
          -3.8220570630343573,
          -7.328198280185059,
          3.5188609047583252,
          -1.98624679810847,
          -8.356622553588604,
          -2.823864639451285,
          2.8869397336678486,
          -5.703859455562648,
          -4.812864488195191,
          1.5041481800667877,
          0.3633053703561067,
          -9.043783688787093,
          0.5921583544133936,
          -4.05509441989235,
          -3.007858358165766,
          -7.939694203288603,
          2.3842886530191585,
          3.4707204345840927,
          -3.688589990209892,
          -3.9565726820119704,
          4.022435514174746,
          -2.502875028036429,
          -4.128051707105706,
          3.6452829679480585,
          -1.337829241849687,
          -8.024126524913319,
          -9.386348840070472,
          -3.3597700241261377,
          -3.5262944419676256,
          -3.4632237779822654,
          -3.5319573898396825,
          -8.043825408198616,
          2.3463491593455075,
          4.054240022349643,
          -5.097689936986347,
          2.0548627629088605,
          -7.912491012386313,
          -4.728510166532364,
          0.8116947771218962,
          -8.739752043445637,
          0.3284394953510203,
          0.15829783238556006,
          -3.9097516905289575,
          -6.860002222091783,
          -1.151256645522965,
          3.561284227344442,
          -0.009199316853096606,
          -1.766368900388947,
          -3.920734000669846,
          -4.1333748410468365,
          -9.780666445240302,
          -3.956554136762635,
          3.5286314509217895,
          -7.839680384160613,
          -8.352065967512942,
          -8.818982622823171,
          -4.053503780646705,
          1.3407175355614527,
          -1.545426348334561,
          4.9368453355813475,
          0.8627990865914263,
          -3.3196252022745143,
          -5.075367276110093,
          1.696352613314902,
          4.908984207745029,
          -7.783735388248322,
          -3.544448009426377,
          5.659358024076449,
          -8.401862882339504,
          0.8527151602267309,
          -5.265631958600636,
          1.2539448618846962,
          -8.588184787579273,
          -4.249989699734067,
          -8.379542347137651,
          -2.2038766446741613,
          3.009993533355024,
          -2.264200834105587,
          -3.8860552446321743,
          -6.1971492009204034,
          -2.7171845169103843,
          -3.695783857339091,
          4.057147146430284,
          -3.402811051386989,
          1.4911242775529543,
          3.3065986015291307,
          3.7227620096688283,
          -8.226340808371322,
          -3.8760084790146454,
          -3.255316513290986,
          -4.55994238497167,
          5.023692978550581,
          -3.2707971404987193,
          -7.732945900976985,
          1.5817281042993203,
          -10.049589027515138,
          1.128829044436472,
          5.92630668526536,
          -2.0061997875857838,
          -3.7501297022920634,
          -2.877660704131328,
          -4.592078954817427,
          -4.907049149171139,
          -3.9693630589832156,
          5.551213578682775,
          3.90202400589671,
          -2.783518418895034,
          -3.3861473419125483,
          -2.3040148081234553,
          4.205731799913164,
          4.640905566660254,
          1.7155034242636267,
          -6.1983500296150105,
          2.5442946283781653,
          6.098944469870908,
          -7.951397925750041,
          -2.911597738863084,
          1.6969497981220951,
          -2.1326637550143484,
          4.157119493365752,
          0.6008757114053863,
          -1.4659363731850437,
          -2.7288408425577058,
          -3.7681921298792607,
          -4.5768792770429965,
          3.769494222273808,
          -8.770590168336406,
          1.8986630017242312,
          4.816541516051418,
          -3.6381891553209127,
          6.506745005322004,
          0.24331435398353962,
          -3.3349682853646803,
          -3.615336850788729,
          -3.5757847610422853,
          -3.7694636001479305,
          0.6021543357591482,
          -5.5691209020665,
          2.0092338724433763,
          0.7848836255031636,
          -1.8867305969393389,
          5.337591950146718,
          -9.913916665022828,
          1.1006089235155598,
          -4.614465775368402,
          -7.251741212975334,
          5.291631033113889,
          -9.549848529219476,
          4.0097363419871845,
          5.168501049155187,
          -8.440535968100065,
          -3.090003229819183,
          -0.3996479913741764,
          -4.950375375013468,
          4.39382526992426,
          5.282658789959386,
          -1.8565323883106086,
          -7.329222486173637,
          1.9690207478218325,
          4.525498514650621,
          -3.2029369074981964,
          -6.388186311470344,
          1.931622566155364,
          -3.1399739067467087,
          0.23911165619180053,
          -7.6504872226241405,
          -3.7839661143045364
         ],
         "yaxis": "y"
        }
       ],
       "layout": {
        "legend": {
         "tracegroupgap": 0
        },
        "template": {
         "data": {
          "bar": [
           {
            "error_x": {
             "color": "#2a3f5f"
            },
            "error_y": {
             "color": "#2a3f5f"
            },
            "marker": {
             "line": {
              "color": "#E5ECF6",
              "width": 0.5
             },
             "pattern": {
              "fillmode": "overlay",
              "size": 10,
              "solidity": 0.2
             }
            },
            "type": "bar"
           }
          ],
          "barpolar": [
           {
            "marker": {
             "line": {
              "color": "#E5ECF6",
              "width": 0.5
             },
             "pattern": {
              "fillmode": "overlay",
              "size": 10,
              "solidity": 0.2
             }
            },
            "type": "barpolar"
           }
          ],
          "carpet": [
           {
            "aaxis": {
             "endlinecolor": "#2a3f5f",
             "gridcolor": "white",
             "linecolor": "white",
             "minorgridcolor": "white",
             "startlinecolor": "#2a3f5f"
            },
            "baxis": {
             "endlinecolor": "#2a3f5f",
             "gridcolor": "white",
             "linecolor": "white",
             "minorgridcolor": "white",
             "startlinecolor": "#2a3f5f"
            },
            "type": "carpet"
           }
          ],
          "choropleth": [
           {
            "colorbar": {
             "outlinewidth": 0,
             "ticks": ""
            },
            "type": "choropleth"
           }
          ],
          "contour": [
           {
            "colorbar": {
             "outlinewidth": 0,
             "ticks": ""
            },
            "colorscale": [
             [
              0,
              "#0d0887"
             ],
             [
              0.1111111111111111,
              "#46039f"
             ],
             [
              0.2222222222222222,
              "#7201a8"
             ],
             [
              0.3333333333333333,
              "#9c179e"
             ],
             [
              0.4444444444444444,
              "#bd3786"
             ],
             [
              0.5555555555555556,
              "#d8576b"
             ],
             [
              0.6666666666666666,
              "#ed7953"
             ],
             [
              0.7777777777777778,
              "#fb9f3a"
             ],
             [
              0.8888888888888888,
              "#fdca26"
             ],
             [
              1,
              "#f0f921"
             ]
            ],
            "type": "contour"
           }
          ],
          "contourcarpet": [
           {
            "colorbar": {
             "outlinewidth": 0,
             "ticks": ""
            },
            "type": "contourcarpet"
           }
          ],
          "heatmap": [
           {
            "colorbar": {
             "outlinewidth": 0,
             "ticks": ""
            },
            "colorscale": [
             [
              0,
              "#0d0887"
             ],
             [
              0.1111111111111111,
              "#46039f"
             ],
             [
              0.2222222222222222,
              "#7201a8"
             ],
             [
              0.3333333333333333,
              "#9c179e"
             ],
             [
              0.4444444444444444,
              "#bd3786"
             ],
             [
              0.5555555555555556,
              "#d8576b"
             ],
             [
              0.6666666666666666,
              "#ed7953"
             ],
             [
              0.7777777777777778,
              "#fb9f3a"
             ],
             [
              0.8888888888888888,
              "#fdca26"
             ],
             [
              1,
              "#f0f921"
             ]
            ],
            "type": "heatmap"
           }
          ],
          "heatmapgl": [
           {
            "colorbar": {
             "outlinewidth": 0,
             "ticks": ""
            },
            "colorscale": [
             [
              0,
              "#0d0887"
             ],
             [
              0.1111111111111111,
              "#46039f"
             ],
             [
              0.2222222222222222,
              "#7201a8"
             ],
             [
              0.3333333333333333,
              "#9c179e"
             ],
             [
              0.4444444444444444,
              "#bd3786"
             ],
             [
              0.5555555555555556,
              "#d8576b"
             ],
             [
              0.6666666666666666,
              "#ed7953"
             ],
             [
              0.7777777777777778,
              "#fb9f3a"
             ],
             [
              0.8888888888888888,
              "#fdca26"
             ],
             [
              1,
              "#f0f921"
             ]
            ],
            "type": "heatmapgl"
           }
          ],
          "histogram": [
           {
            "marker": {
             "pattern": {
              "fillmode": "overlay",
              "size": 10,
              "solidity": 0.2
             }
            },
            "type": "histogram"
           }
          ],
          "histogram2d": [
           {
            "colorbar": {
             "outlinewidth": 0,
             "ticks": ""
            },
            "colorscale": [
             [
              0,
              "#0d0887"
             ],
             [
              0.1111111111111111,
              "#46039f"
             ],
             [
              0.2222222222222222,
              "#7201a8"
             ],
             [
              0.3333333333333333,
              "#9c179e"
             ],
             [
              0.4444444444444444,
              "#bd3786"
             ],
             [
              0.5555555555555556,
              "#d8576b"
             ],
             [
              0.6666666666666666,
              "#ed7953"
             ],
             [
              0.7777777777777778,
              "#fb9f3a"
             ],
             [
              0.8888888888888888,
              "#fdca26"
             ],
             [
              1,
              "#f0f921"
             ]
            ],
            "type": "histogram2d"
           }
          ],
          "histogram2dcontour": [
           {
            "colorbar": {
             "outlinewidth": 0,
             "ticks": ""
            },
            "colorscale": [
             [
              0,
              "#0d0887"
             ],
             [
              0.1111111111111111,
              "#46039f"
             ],
             [
              0.2222222222222222,
              "#7201a8"
             ],
             [
              0.3333333333333333,
              "#9c179e"
             ],
             [
              0.4444444444444444,
              "#bd3786"
             ],
             [
              0.5555555555555556,
              "#d8576b"
             ],
             [
              0.6666666666666666,
              "#ed7953"
             ],
             [
              0.7777777777777778,
              "#fb9f3a"
             ],
             [
              0.8888888888888888,
              "#fdca26"
             ],
             [
              1,
              "#f0f921"
             ]
            ],
            "type": "histogram2dcontour"
           }
          ],
          "mesh3d": [
           {
            "colorbar": {
             "outlinewidth": 0,
             "ticks": ""
            },
            "type": "mesh3d"
           }
          ],
          "parcoords": [
           {
            "line": {
             "colorbar": {
              "outlinewidth": 0,
              "ticks": ""
             }
            },
            "type": "parcoords"
           }
          ],
          "pie": [
           {
            "automargin": true,
            "type": "pie"
           }
          ],
          "scatter": [
           {
            "fillpattern": {
             "fillmode": "overlay",
             "size": 10,
             "solidity": 0.2
            },
            "type": "scatter"
           }
          ],
          "scatter3d": [
           {
            "line": {
             "colorbar": {
              "outlinewidth": 0,
              "ticks": ""
             }
            },
            "marker": {
             "colorbar": {
              "outlinewidth": 0,
              "ticks": ""
             }
            },
            "type": "scatter3d"
           }
          ],
          "scattercarpet": [
           {
            "marker": {
             "colorbar": {
              "outlinewidth": 0,
              "ticks": ""
             }
            },
            "type": "scattercarpet"
           }
          ],
          "scattergeo": [
           {
            "marker": {
             "colorbar": {
              "outlinewidth": 0,
              "ticks": ""
             }
            },
            "type": "scattergeo"
           }
          ],
          "scattergl": [
           {
            "marker": {
             "colorbar": {
              "outlinewidth": 0,
              "ticks": ""
             }
            },
            "type": "scattergl"
           }
          ],
          "scattermapbox": [
           {
            "marker": {
             "colorbar": {
              "outlinewidth": 0,
              "ticks": ""
             }
            },
            "type": "scattermapbox"
           }
          ],
          "scatterpolar": [
           {
            "marker": {
             "colorbar": {
              "outlinewidth": 0,
              "ticks": ""
             }
            },
            "type": "scatterpolar"
           }
          ],
          "scatterpolargl": [
           {
            "marker": {
             "colorbar": {
              "outlinewidth": 0,
              "ticks": ""
             }
            },
            "type": "scatterpolargl"
           }
          ],
          "scatterternary": [
           {
            "marker": {
             "colorbar": {
              "outlinewidth": 0,
              "ticks": ""
             }
            },
            "type": "scatterternary"
           }
          ],
          "surface": [
           {
            "colorbar": {
             "outlinewidth": 0,
             "ticks": ""
            },
            "colorscale": [
             [
              0,
              "#0d0887"
             ],
             [
              0.1111111111111111,
              "#46039f"
             ],
             [
              0.2222222222222222,
              "#7201a8"
             ],
             [
              0.3333333333333333,
              "#9c179e"
             ],
             [
              0.4444444444444444,
              "#bd3786"
             ],
             [
              0.5555555555555556,
              "#d8576b"
             ],
             [
              0.6666666666666666,
              "#ed7953"
             ],
             [
              0.7777777777777778,
              "#fb9f3a"
             ],
             [
              0.8888888888888888,
              "#fdca26"
             ],
             [
              1,
              "#f0f921"
             ]
            ],
            "type": "surface"
           }
          ],
          "table": [
           {
            "cells": {
             "fill": {
              "color": "#EBF0F8"
             },
             "line": {
              "color": "white"
             }
            },
            "header": {
             "fill": {
              "color": "#C8D4E3"
             },
             "line": {
              "color": "white"
             }
            },
            "type": "table"
           }
          ]
         },
         "layout": {
          "annotationdefaults": {
           "arrowcolor": "#2a3f5f",
           "arrowhead": 0,
           "arrowwidth": 1
          },
          "autotypenumbers": "strict",
          "coloraxis": {
           "colorbar": {
            "outlinewidth": 0,
            "ticks": ""
           }
          },
          "colorscale": {
           "diverging": [
            [
             0,
             "#8e0152"
            ],
            [
             0.1,
             "#c51b7d"
            ],
            [
             0.2,
             "#de77ae"
            ],
            [
             0.3,
             "#f1b6da"
            ],
            [
             0.4,
             "#fde0ef"
            ],
            [
             0.5,
             "#f7f7f7"
            ],
            [
             0.6,
             "#e6f5d0"
            ],
            [
             0.7,
             "#b8e186"
            ],
            [
             0.8,
             "#7fbc41"
            ],
            [
             0.9,
             "#4d9221"
            ],
            [
             1,
             "#276419"
            ]
           ],
           "sequential": [
            [
             0,
             "#0d0887"
            ],
            [
             0.1111111111111111,
             "#46039f"
            ],
            [
             0.2222222222222222,
             "#7201a8"
            ],
            [
             0.3333333333333333,
             "#9c179e"
            ],
            [
             0.4444444444444444,
             "#bd3786"
            ],
            [
             0.5555555555555556,
             "#d8576b"
            ],
            [
             0.6666666666666666,
             "#ed7953"
            ],
            [
             0.7777777777777778,
             "#fb9f3a"
            ],
            [
             0.8888888888888888,
             "#fdca26"
            ],
            [
             1,
             "#f0f921"
            ]
           ],
           "sequentialminus": [
            [
             0,
             "#0d0887"
            ],
            [
             0.1111111111111111,
             "#46039f"
            ],
            [
             0.2222222222222222,
             "#7201a8"
            ],
            [
             0.3333333333333333,
             "#9c179e"
            ],
            [
             0.4444444444444444,
             "#bd3786"
            ],
            [
             0.5555555555555556,
             "#d8576b"
            ],
            [
             0.6666666666666666,
             "#ed7953"
            ],
            [
             0.7777777777777778,
             "#fb9f3a"
            ],
            [
             0.8888888888888888,
             "#fdca26"
            ],
            [
             1,
             "#f0f921"
            ]
           ]
          },
          "colorway": [
           "#636efa",
           "#EF553B",
           "#00cc96",
           "#ab63fa",
           "#FFA15A",
           "#19d3f3",
           "#FF6692",
           "#B6E880",
           "#FF97FF",
           "#FECB52"
          ],
          "font": {
           "color": "#2a3f5f"
          },
          "geo": {
           "bgcolor": "white",
           "lakecolor": "white",
           "landcolor": "#E5ECF6",
           "showlakes": true,
           "showland": true,
           "subunitcolor": "white"
          },
          "hoverlabel": {
           "align": "left"
          },
          "hovermode": "closest",
          "mapbox": {
           "style": "light"
          },
          "paper_bgcolor": "white",
          "plot_bgcolor": "#E5ECF6",
          "polar": {
           "angularaxis": {
            "gridcolor": "white",
            "linecolor": "white",
            "ticks": ""
           },
           "bgcolor": "#E5ECF6",
           "radialaxis": {
            "gridcolor": "white",
            "linecolor": "white",
            "ticks": ""
           }
          },
          "scene": {
           "xaxis": {
            "backgroundcolor": "#E5ECF6",
            "gridcolor": "white",
            "gridwidth": 2,
            "linecolor": "white",
            "showbackground": true,
            "ticks": "",
            "zerolinecolor": "white"
           },
           "yaxis": {
            "backgroundcolor": "#E5ECF6",
            "gridcolor": "white",
            "gridwidth": 2,
            "linecolor": "white",
            "showbackground": true,
            "ticks": "",
            "zerolinecolor": "white"
           },
           "zaxis": {
            "backgroundcolor": "#E5ECF6",
            "gridcolor": "white",
            "gridwidth": 2,
            "linecolor": "white",
            "showbackground": true,
            "ticks": "",
            "zerolinecolor": "white"
           }
          },
          "shapedefaults": {
           "line": {
            "color": "#2a3f5f"
           }
          },
          "ternary": {
           "aaxis": {
            "gridcolor": "white",
            "linecolor": "white",
            "ticks": ""
           },
           "baxis": {
            "gridcolor": "white",
            "linecolor": "white",
            "ticks": ""
           },
           "bgcolor": "#E5ECF6",
           "caxis": {
            "gridcolor": "white",
            "linecolor": "white",
            "ticks": ""
           }
          },
          "title": {
           "x": 0.05
          },
          "xaxis": {
           "automargin": true,
           "gridcolor": "white",
           "linecolor": "white",
           "ticks": "",
           "title": {
            "standoff": 15
           },
           "zerolinecolor": "white",
           "zerolinewidth": 2
          },
          "yaxis": {
           "automargin": true,
           "gridcolor": "white",
           "linecolor": "white",
           "ticks": "",
           "title": {
            "standoff": 15
           },
           "zerolinecolor": "white",
           "zerolinewidth": 2
          }
         }
        },
        "title": {
         "text": "KMeans Clustering"
        },
        "xaxis": {
         "anchor": "y",
         "domain": [
          0,
          1
         ],
         "title": {
          "text": "x"
         }
        },
        "yaxis": {
         "anchor": "x",
         "domain": [
          0,
          1
         ],
         "title": {
          "text": "y"
         }
        }
       }
      }
     },
     "metadata": {},
     "output_type": "display_data"
    }
   ],
   "source": [
    "graphic = px.scatter(x=X[:, 0], y=X[:, 1], title=\"KMeans Clustering\")\n",
    "graphic.show()"
   ]
  },
  {
   "cell_type": "code",
   "execution_count": 41,
   "metadata": {},
   "outputs": [
    {
     "name": "stderr",
     "output_type": "stream",
     "text": [
      "c:\\Users\\wilso\\AppData\\Local\\anaconda3\\Lib\\site-packages\\sklearn\\cluster\\_kmeans.py:1411: UserWarning:\n",
      "\n",
      "KMeans is known to have a memory leak on Windows with MKL, when there are less chunks than available threads. You can avoid it by setting the environment variable OMP_NUM_THREADS=1.\n",
      "\n"
     ]
    },
    {
     "data": {
      "text/html": [
       "<style>#sk-container-id-5 {\n",
       "  /* Definition of color scheme common for light and dark mode */\n",
       "  --sklearn-color-text: #000;\n",
       "  --sklearn-color-text-muted: #666;\n",
       "  --sklearn-color-line: gray;\n",
       "  /* Definition of color scheme for unfitted estimators */\n",
       "  --sklearn-color-unfitted-level-0: #fff5e6;\n",
       "  --sklearn-color-unfitted-level-1: #f6e4d2;\n",
       "  --sklearn-color-unfitted-level-2: #ffe0b3;\n",
       "  --sklearn-color-unfitted-level-3: chocolate;\n",
       "  /* Definition of color scheme for fitted estimators */\n",
       "  --sklearn-color-fitted-level-0: #f0f8ff;\n",
       "  --sklearn-color-fitted-level-1: #d4ebff;\n",
       "  --sklearn-color-fitted-level-2: #b3dbfd;\n",
       "  --sklearn-color-fitted-level-3: cornflowerblue;\n",
       "\n",
       "  /* Specific color for light theme */\n",
       "  --sklearn-color-text-on-default-background: var(--sg-text-color, var(--theme-code-foreground, var(--jp-content-font-color1, black)));\n",
       "  --sklearn-color-background: var(--sg-background-color, var(--theme-background, var(--jp-layout-color0, white)));\n",
       "  --sklearn-color-border-box: var(--sg-text-color, var(--theme-code-foreground, var(--jp-content-font-color1, black)));\n",
       "  --sklearn-color-icon: #696969;\n",
       "\n",
       "  @media (prefers-color-scheme: dark) {\n",
       "    /* Redefinition of color scheme for dark theme */\n",
       "    --sklearn-color-text-on-default-background: var(--sg-text-color, var(--theme-code-foreground, var(--jp-content-font-color1, white)));\n",
       "    --sklearn-color-background: var(--sg-background-color, var(--theme-background, var(--jp-layout-color0, #111)));\n",
       "    --sklearn-color-border-box: var(--sg-text-color, var(--theme-code-foreground, var(--jp-content-font-color1, white)));\n",
       "    --sklearn-color-icon: #878787;\n",
       "  }\n",
       "}\n",
       "\n",
       "#sk-container-id-5 {\n",
       "  color: var(--sklearn-color-text);\n",
       "}\n",
       "\n",
       "#sk-container-id-5 pre {\n",
       "  padding: 0;\n",
       "}\n",
       "\n",
       "#sk-container-id-5 input.sk-hidden--visually {\n",
       "  border: 0;\n",
       "  clip: rect(1px 1px 1px 1px);\n",
       "  clip: rect(1px, 1px, 1px, 1px);\n",
       "  height: 1px;\n",
       "  margin: -1px;\n",
       "  overflow: hidden;\n",
       "  padding: 0;\n",
       "  position: absolute;\n",
       "  width: 1px;\n",
       "}\n",
       "\n",
       "#sk-container-id-5 div.sk-dashed-wrapped {\n",
       "  border: 1px dashed var(--sklearn-color-line);\n",
       "  margin: 0 0.4em 0.5em 0.4em;\n",
       "  box-sizing: border-box;\n",
       "  padding-bottom: 0.4em;\n",
       "  background-color: var(--sklearn-color-background);\n",
       "}\n",
       "\n",
       "#sk-container-id-5 div.sk-container {\n",
       "  /* jupyter's `normalize.less` sets `[hidden] { display: none; }`\n",
       "     but bootstrap.min.css set `[hidden] { display: none !important; }`\n",
       "     so we also need the `!important` here to be able to override the\n",
       "     default hidden behavior on the sphinx rendered scikit-learn.org.\n",
       "     See: https://github.com/scikit-learn/scikit-learn/issues/21755 */\n",
       "  display: inline-block !important;\n",
       "  position: relative;\n",
       "}\n",
       "\n",
       "#sk-container-id-5 div.sk-text-repr-fallback {\n",
       "  display: none;\n",
       "}\n",
       "\n",
       "div.sk-parallel-item,\n",
       "div.sk-serial,\n",
       "div.sk-item {\n",
       "  /* draw centered vertical line to link estimators */\n",
       "  background-image: linear-gradient(var(--sklearn-color-text-on-default-background), var(--sklearn-color-text-on-default-background));\n",
       "  background-size: 2px 100%;\n",
       "  background-repeat: no-repeat;\n",
       "  background-position: center center;\n",
       "}\n",
       "\n",
       "/* Parallel-specific style estimator block */\n",
       "\n",
       "#sk-container-id-5 div.sk-parallel-item::after {\n",
       "  content: \"\";\n",
       "  width: 100%;\n",
       "  border-bottom: 2px solid var(--sklearn-color-text-on-default-background);\n",
       "  flex-grow: 1;\n",
       "}\n",
       "\n",
       "#sk-container-id-5 div.sk-parallel {\n",
       "  display: flex;\n",
       "  align-items: stretch;\n",
       "  justify-content: center;\n",
       "  background-color: var(--sklearn-color-background);\n",
       "  position: relative;\n",
       "}\n",
       "\n",
       "#sk-container-id-5 div.sk-parallel-item {\n",
       "  display: flex;\n",
       "  flex-direction: column;\n",
       "}\n",
       "\n",
       "#sk-container-id-5 div.sk-parallel-item:first-child::after {\n",
       "  align-self: flex-end;\n",
       "  width: 50%;\n",
       "}\n",
       "\n",
       "#sk-container-id-5 div.sk-parallel-item:last-child::after {\n",
       "  align-self: flex-start;\n",
       "  width: 50%;\n",
       "}\n",
       "\n",
       "#sk-container-id-5 div.sk-parallel-item:only-child::after {\n",
       "  width: 0;\n",
       "}\n",
       "\n",
       "/* Serial-specific style estimator block */\n",
       "\n",
       "#sk-container-id-5 div.sk-serial {\n",
       "  display: flex;\n",
       "  flex-direction: column;\n",
       "  align-items: center;\n",
       "  background-color: var(--sklearn-color-background);\n",
       "  padding-right: 1em;\n",
       "  padding-left: 1em;\n",
       "}\n",
       "\n",
       "\n",
       "/* Toggleable style: style used for estimator/Pipeline/ColumnTransformer box that is\n",
       "clickable and can be expanded/collapsed.\n",
       "- Pipeline and ColumnTransformer use this feature and define the default style\n",
       "- Estimators will overwrite some part of the style using the `sk-estimator` class\n",
       "*/\n",
       "\n",
       "/* Pipeline and ColumnTransformer style (default) */\n",
       "\n",
       "#sk-container-id-5 div.sk-toggleable {\n",
       "  /* Default theme specific background. It is overwritten whether we have a\n",
       "  specific estimator or a Pipeline/ColumnTransformer */\n",
       "  background-color: var(--sklearn-color-background);\n",
       "}\n",
       "\n",
       "/* Toggleable label */\n",
       "#sk-container-id-5 label.sk-toggleable__label {\n",
       "  cursor: pointer;\n",
       "  display: flex;\n",
       "  width: 100%;\n",
       "  margin-bottom: 0;\n",
       "  padding: 0.5em;\n",
       "  box-sizing: border-box;\n",
       "  text-align: center;\n",
       "  align-items: start;\n",
       "  justify-content: space-between;\n",
       "  gap: 0.5em;\n",
       "}\n",
       "\n",
       "#sk-container-id-5 label.sk-toggleable__label .caption {\n",
       "  font-size: 0.6rem;\n",
       "  font-weight: lighter;\n",
       "  color: var(--sklearn-color-text-muted);\n",
       "}\n",
       "\n",
       "#sk-container-id-5 label.sk-toggleable__label-arrow:before {\n",
       "  /* Arrow on the left of the label */\n",
       "  content: \"▸\";\n",
       "  float: left;\n",
       "  margin-right: 0.25em;\n",
       "  color: var(--sklearn-color-icon);\n",
       "}\n",
       "\n",
       "#sk-container-id-5 label.sk-toggleable__label-arrow:hover:before {\n",
       "  color: var(--sklearn-color-text);\n",
       "}\n",
       "\n",
       "/* Toggleable content - dropdown */\n",
       "\n",
       "#sk-container-id-5 div.sk-toggleable__content {\n",
       "  max-height: 0;\n",
       "  max-width: 0;\n",
       "  overflow: hidden;\n",
       "  text-align: left;\n",
       "  /* unfitted */\n",
       "  background-color: var(--sklearn-color-unfitted-level-0);\n",
       "}\n",
       "\n",
       "#sk-container-id-5 div.sk-toggleable__content.fitted {\n",
       "  /* fitted */\n",
       "  background-color: var(--sklearn-color-fitted-level-0);\n",
       "}\n",
       "\n",
       "#sk-container-id-5 div.sk-toggleable__content pre {\n",
       "  margin: 0.2em;\n",
       "  border-radius: 0.25em;\n",
       "  color: var(--sklearn-color-text);\n",
       "  /* unfitted */\n",
       "  background-color: var(--sklearn-color-unfitted-level-0);\n",
       "}\n",
       "\n",
       "#sk-container-id-5 div.sk-toggleable__content.fitted pre {\n",
       "  /* unfitted */\n",
       "  background-color: var(--sklearn-color-fitted-level-0);\n",
       "}\n",
       "\n",
       "#sk-container-id-5 input.sk-toggleable__control:checked~div.sk-toggleable__content {\n",
       "  /* Expand drop-down */\n",
       "  max-height: 200px;\n",
       "  max-width: 100%;\n",
       "  overflow: auto;\n",
       "}\n",
       "\n",
       "#sk-container-id-5 input.sk-toggleable__control:checked~label.sk-toggleable__label-arrow:before {\n",
       "  content: \"▾\";\n",
       "}\n",
       "\n",
       "/* Pipeline/ColumnTransformer-specific style */\n",
       "\n",
       "#sk-container-id-5 div.sk-label input.sk-toggleable__control:checked~label.sk-toggleable__label {\n",
       "  color: var(--sklearn-color-text);\n",
       "  background-color: var(--sklearn-color-unfitted-level-2);\n",
       "}\n",
       "\n",
       "#sk-container-id-5 div.sk-label.fitted input.sk-toggleable__control:checked~label.sk-toggleable__label {\n",
       "  background-color: var(--sklearn-color-fitted-level-2);\n",
       "}\n",
       "\n",
       "/* Estimator-specific style */\n",
       "\n",
       "/* Colorize estimator box */\n",
       "#sk-container-id-5 div.sk-estimator input.sk-toggleable__control:checked~label.sk-toggleable__label {\n",
       "  /* unfitted */\n",
       "  background-color: var(--sklearn-color-unfitted-level-2);\n",
       "}\n",
       "\n",
       "#sk-container-id-5 div.sk-estimator.fitted input.sk-toggleable__control:checked~label.sk-toggleable__label {\n",
       "  /* fitted */\n",
       "  background-color: var(--sklearn-color-fitted-level-2);\n",
       "}\n",
       "\n",
       "#sk-container-id-5 div.sk-label label.sk-toggleable__label,\n",
       "#sk-container-id-5 div.sk-label label {\n",
       "  /* The background is the default theme color */\n",
       "  color: var(--sklearn-color-text-on-default-background);\n",
       "}\n",
       "\n",
       "/* On hover, darken the color of the background */\n",
       "#sk-container-id-5 div.sk-label:hover label.sk-toggleable__label {\n",
       "  color: var(--sklearn-color-text);\n",
       "  background-color: var(--sklearn-color-unfitted-level-2);\n",
       "}\n",
       "\n",
       "/* Label box, darken color on hover, fitted */\n",
       "#sk-container-id-5 div.sk-label.fitted:hover label.sk-toggleable__label.fitted {\n",
       "  color: var(--sklearn-color-text);\n",
       "  background-color: var(--sklearn-color-fitted-level-2);\n",
       "}\n",
       "\n",
       "/* Estimator label */\n",
       "\n",
       "#sk-container-id-5 div.sk-label label {\n",
       "  font-family: monospace;\n",
       "  font-weight: bold;\n",
       "  display: inline-block;\n",
       "  line-height: 1.2em;\n",
       "}\n",
       "\n",
       "#sk-container-id-5 div.sk-label-container {\n",
       "  text-align: center;\n",
       "}\n",
       "\n",
       "/* Estimator-specific */\n",
       "#sk-container-id-5 div.sk-estimator {\n",
       "  font-family: monospace;\n",
       "  border: 1px dotted var(--sklearn-color-border-box);\n",
       "  border-radius: 0.25em;\n",
       "  box-sizing: border-box;\n",
       "  margin-bottom: 0.5em;\n",
       "  /* unfitted */\n",
       "  background-color: var(--sklearn-color-unfitted-level-0);\n",
       "}\n",
       "\n",
       "#sk-container-id-5 div.sk-estimator.fitted {\n",
       "  /* fitted */\n",
       "  background-color: var(--sklearn-color-fitted-level-0);\n",
       "}\n",
       "\n",
       "/* on hover */\n",
       "#sk-container-id-5 div.sk-estimator:hover {\n",
       "  /* unfitted */\n",
       "  background-color: var(--sklearn-color-unfitted-level-2);\n",
       "}\n",
       "\n",
       "#sk-container-id-5 div.sk-estimator.fitted:hover {\n",
       "  /* fitted */\n",
       "  background-color: var(--sklearn-color-fitted-level-2);\n",
       "}\n",
       "\n",
       "/* Specification for estimator info (e.g. \"i\" and \"?\") */\n",
       "\n",
       "/* Common style for \"i\" and \"?\" */\n",
       "\n",
       ".sk-estimator-doc-link,\n",
       "a:link.sk-estimator-doc-link,\n",
       "a:visited.sk-estimator-doc-link {\n",
       "  float: right;\n",
       "  font-size: smaller;\n",
       "  line-height: 1em;\n",
       "  font-family: monospace;\n",
       "  background-color: var(--sklearn-color-background);\n",
       "  border-radius: 1em;\n",
       "  height: 1em;\n",
       "  width: 1em;\n",
       "  text-decoration: none !important;\n",
       "  margin-left: 0.5em;\n",
       "  text-align: center;\n",
       "  /* unfitted */\n",
       "  border: var(--sklearn-color-unfitted-level-1) 1pt solid;\n",
       "  color: var(--sklearn-color-unfitted-level-1);\n",
       "}\n",
       "\n",
       ".sk-estimator-doc-link.fitted,\n",
       "a:link.sk-estimator-doc-link.fitted,\n",
       "a:visited.sk-estimator-doc-link.fitted {\n",
       "  /* fitted */\n",
       "  border: var(--sklearn-color-fitted-level-1) 1pt solid;\n",
       "  color: var(--sklearn-color-fitted-level-1);\n",
       "}\n",
       "\n",
       "/* On hover */\n",
       "div.sk-estimator:hover .sk-estimator-doc-link:hover,\n",
       ".sk-estimator-doc-link:hover,\n",
       "div.sk-label-container:hover .sk-estimator-doc-link:hover,\n",
       ".sk-estimator-doc-link:hover {\n",
       "  /* unfitted */\n",
       "  background-color: var(--sklearn-color-unfitted-level-3);\n",
       "  color: var(--sklearn-color-background);\n",
       "  text-decoration: none;\n",
       "}\n",
       "\n",
       "div.sk-estimator.fitted:hover .sk-estimator-doc-link.fitted:hover,\n",
       ".sk-estimator-doc-link.fitted:hover,\n",
       "div.sk-label-container:hover .sk-estimator-doc-link.fitted:hover,\n",
       ".sk-estimator-doc-link.fitted:hover {\n",
       "  /* fitted */\n",
       "  background-color: var(--sklearn-color-fitted-level-3);\n",
       "  color: var(--sklearn-color-background);\n",
       "  text-decoration: none;\n",
       "}\n",
       "\n",
       "/* Span, style for the box shown on hovering the info icon */\n",
       ".sk-estimator-doc-link span {\n",
       "  display: none;\n",
       "  z-index: 9999;\n",
       "  position: relative;\n",
       "  font-weight: normal;\n",
       "  right: .2ex;\n",
       "  padding: .5ex;\n",
       "  margin: .5ex;\n",
       "  width: min-content;\n",
       "  min-width: 20ex;\n",
       "  max-width: 50ex;\n",
       "  color: var(--sklearn-color-text);\n",
       "  box-shadow: 2pt 2pt 4pt #999;\n",
       "  /* unfitted */\n",
       "  background: var(--sklearn-color-unfitted-level-0);\n",
       "  border: .5pt solid var(--sklearn-color-unfitted-level-3);\n",
       "}\n",
       "\n",
       ".sk-estimator-doc-link.fitted span {\n",
       "  /* fitted */\n",
       "  background: var(--sklearn-color-fitted-level-0);\n",
       "  border: var(--sklearn-color-fitted-level-3);\n",
       "}\n",
       "\n",
       ".sk-estimator-doc-link:hover span {\n",
       "  display: block;\n",
       "}\n",
       "\n",
       "/* \"?\"-specific style due to the `<a>` HTML tag */\n",
       "\n",
       "#sk-container-id-5 a.estimator_doc_link {\n",
       "  float: right;\n",
       "  font-size: 1rem;\n",
       "  line-height: 1em;\n",
       "  font-family: monospace;\n",
       "  background-color: var(--sklearn-color-background);\n",
       "  border-radius: 1rem;\n",
       "  height: 1rem;\n",
       "  width: 1rem;\n",
       "  text-decoration: none;\n",
       "  /* unfitted */\n",
       "  color: var(--sklearn-color-unfitted-level-1);\n",
       "  border: var(--sklearn-color-unfitted-level-1) 1pt solid;\n",
       "}\n",
       "\n",
       "#sk-container-id-5 a.estimator_doc_link.fitted {\n",
       "  /* fitted */\n",
       "  border: var(--sklearn-color-fitted-level-1) 1pt solid;\n",
       "  color: var(--sklearn-color-fitted-level-1);\n",
       "}\n",
       "\n",
       "/* On hover */\n",
       "#sk-container-id-5 a.estimator_doc_link:hover {\n",
       "  /* unfitted */\n",
       "  background-color: var(--sklearn-color-unfitted-level-3);\n",
       "  color: var(--sklearn-color-background);\n",
       "  text-decoration: none;\n",
       "}\n",
       "\n",
       "#sk-container-id-5 a.estimator_doc_link.fitted:hover {\n",
       "  /* fitted */\n",
       "  background-color: var(--sklearn-color-fitted-level-3);\n",
       "}\n",
       "</style><div id=\"sk-container-id-5\" class=\"sk-top-container\"><div class=\"sk-text-repr-fallback\"><pre>KMeans(n_clusters=5)</pre><b>In a Jupyter environment, please rerun this cell to show the HTML representation or trust the notebook. <br />On GitHub, the HTML representation is unable to render, please try loading this page with nbviewer.org.</b></div><div class=\"sk-container\" hidden><div class=\"sk-item\"><div class=\"sk-estimator fitted sk-toggleable\"><input class=\"sk-toggleable__control sk-hidden--visually\" id=\"sk-estimator-id-5\" type=\"checkbox\" checked><label for=\"sk-estimator-id-5\" class=\"sk-toggleable__label fitted sk-toggleable__label-arrow\"><div><div>KMeans</div></div><div><a class=\"sk-estimator-doc-link fitted\" rel=\"noreferrer\" target=\"_blank\" href=\"https://scikit-learn.org/1.6/modules/generated/sklearn.cluster.KMeans.html\">?<span>Documentation for KMeans</span></a><span class=\"sk-estimator-doc-link fitted\">i<span>Fitted</span></span></div></label><div class=\"sk-toggleable__content fitted\"><pre>KMeans(n_clusters=5)</pre></div> </div></div></div></div>"
      ],
      "text/plain": [
       "KMeans(n_clusters=5)"
      ]
     },
     "execution_count": 41,
     "metadata": {},
     "output_type": "execute_result"
    }
   ],
   "source": [
    "kmeans = KMeans(n_clusters=5)\n",
    "kmeans.fit(X)"
   ]
  },
  {
   "cell_type": "code",
   "execution_count": 42,
   "metadata": {},
   "outputs": [
    {
     "data": {
      "text/plain": [
       "array([4, 2, 3, 2, 2, 3, 0, 3, 2, 4, 3, 3, 3, 1, 3, 4, 4, 1, 2, 2, 4, 3,\n",
       "       0, 3, 0, 1, 2, 0, 0, 1, 2, 0, 4, 3, 2, 4, 1, 2, 1, 4, 1, 1, 0, 0,\n",
       "       2, 0, 1, 3, 2, 0, 4, 3, 3, 4, 3, 1, 4, 3, 2, 2, 1, 3, 3, 3, 2, 0,\n",
       "       4, 1, 0, 2, 1, 0, 2, 0, 0, 1, 2, 1, 4, 0, 1, 1, 3, 2, 3, 4, 2, 2,\n",
       "       2, 1, 0, 3, 4, 0, 3, 1, 0, 4, 2, 1, 4, 2, 0, 1, 0, 2, 1, 2, 3, 4,\n",
       "       3, 3, 2, 1, 3, 4, 1, 0, 4, 4, 2, 1, 1, 3, 4, 1, 2, 0, 2, 0, 4, 0,\n",
       "       3, 3, 1, 1, 3, 4, 4, 3, 3, 3, 4, 4, 0, 2, 0, 4, 2, 3, 0, 3, 4, 0,\n",
       "       3, 1, 1, 1, 4, 2, 0, 4, 1, 4, 0, 1, 1, 1, 3, 0, 1, 0, 0, 3, 4, 2,\n",
       "       0, 3, 2, 4, 2, 4, 4, 2, 1, 0, 1, 4, 4, 3, 2, 0, 4, 1, 1, 0, 3, 0,\n",
       "       2, 1])"
      ]
     },
     "execution_count": 42,
     "metadata": {},
     "output_type": "execute_result"
    }
   ],
   "source": [
    "labels = kmeans.predict(X)\n",
    "labels"
   ]
  },
  {
   "cell_type": "code",
   "execution_count": 43,
   "metadata": {},
   "outputs": [
    {
     "data": {
      "text/plain": [
       "array([[-2.17069756,  1.02591979],\n",
       "       [-9.85620522, -3.91021738],\n",
       "       [-6.87958999, -8.11648104],\n",
       "       [-5.90368078, -3.04489641],\n",
       "       [-1.58338528,  4.50520457]])"
      ]
     },
     "execution_count": 43,
     "metadata": {},
     "output_type": "execute_result"
    }
   ],
   "source": [
    "centers = kmeans.cluster_centers_\n",
    "centers"
   ]
  },
  {
   "cell_type": "code",
   "execution_count": 44,
   "metadata": {},
   "outputs": [
    {
     "data": {
      "application/vnd.plotly.v1+json": {
       "config": {
        "plotlyServerURL": "https://plot.ly"
       },
       "data": [
        {
         "hovertemplate": "x=%{x}<br>y=%{y}<br>color=%{marker.color}<extra></extra>",
         "legendgroup": "",
         "marker": {
          "color": [
           4,
           2,
           3,
           2,
           2,
           3,
           0,
           3,
           2,
           4,
           3,
           3,
           3,
           1,
           3,
           4,
           4,
           1,
           2,
           2,
           4,
           3,
           0,
           3,
           0,
           1,
           2,
           0,
           0,
           1,
           2,
           0,
           4,
           3,
           2,
           4,
           1,
           2,
           1,
           4,
           1,
           1,
           0,
           0,
           2,
           0,
           1,
           3,
           2,
           0,
           4,
           3,
           3,
           4,
           3,
           1,
           4,
           3,
           2,
           2,
           1,
           3,
           3,
           3,
           2,
           0,
           4,
           1,
           0,
           2,
           1,
           0,
           2,
           0,
           0,
           1,
           2,
           1,
           4,
           0,
           1,
           1,
           3,
           2,
           3,
           4,
           2,
           2,
           2,
           1,
           0,
           3,
           4,
           0,
           3,
           1,
           0,
           4,
           2,
           1,
           4,
           2,
           0,
           1,
           0,
           2,
           1,
           2,
           3,
           4,
           3,
           3,
           2,
           1,
           3,
           4,
           1,
           0,
           4,
           4,
           2,
           1,
           1,
           3,
           4,
           1,
           2,
           0,
           2,
           0,
           4,
           0,
           3,
           3,
           1,
           1,
           3,
           4,
           4,
           3,
           3,
           3,
           4,
           4,
           0,
           2,
           0,
           4,
           2,
           3,
           0,
           3,
           4,
           0,
           3,
           1,
           1,
           1,
           4,
           2,
           0,
           4,
           1,
           4,
           0,
           1,
           1,
           1,
           3,
           0,
           1,
           0,
           0,
           3,
           4,
           2,
           0,
           3,
           2,
           4,
           2,
           4,
           4,
           2,
           1,
           0,
           1,
           4,
           4,
           3,
           2,
           0,
           4,
           1,
           1,
           0,
           3,
           0,
           2,
           1
          ],
          "coloraxis": "coloraxis",
          "symbol": "circle"
         },
         "mode": "markers",
         "name": "",
         "orientation": "v",
         "showlegend": false,
         "type": "scatter",
         "x": [
          -1.9657639185768914,
          -5.160223475316758,
          -6.179370685255325,
          -7.391381681735923,
          -6.384812343779634,
          -6.261443096099406,
          -2.0427876787600487,
          -4.464260858321126,
          -6.403861896059046,
          0.00024227116135100424,
          -5.992120060198162,
          -6.461374765958048,
          -4.101851741067396,
          -10.134157247549135,
          -5.990047661597524,
          -1.1466300855305107,
          -1.1710417594110225,
          -9.195851471781756,
          -8.301735560199136,
          -7.563095747288817,
          -1.8684541393232976,
          -4.223622329589138,
          -1.908386665116518,
          -6.52897564005395,
          -3.0865364600279106,
          -9.468247179300391,
          -6.2539305108541825,
          -3.0616703109162837,
          -2.506879794899774,
          -10.178632805731251,
          -7.926198544433781,
          -2.513388548058224,
          -1.6173461592329268,
          -5.998296467624399,
          -8.739077991276671,
          -1.8513954583101344,
          -8.723956573494325,
          -7.765280688578994,
          -9.875891232661665,
          -2.100018440265312,
          -8.284626580636772,
          -9.151551856068068,
          -2.301087467199588,
          -1.211369293430979,
          -8.715603449481838,
          -1.4466649814662667,
          -10.18428227556045,
          -7.391265790331326,
          -6.078546995836497,
          -1.3439249587069142,
          -1.7824501314671677,
          -5.65299226814101,
          -7.152077291364771,
          -1.9819771099620271,
          -7.230221034820271,
          -9.502501179675141,
          0.08525185826796045,
          -4.5710911680626625,
          -5.65734218341651,
          -7.185346755446246,
          -9.5942208618623,
          -7.056707455133383,
          -5.4797696780217375,
          -5.656256641660289,
          -5.506076643037879,
          -0.19745196890354544,
          -1.359389585992692,
          -9.477136166579731,
          -2.4762896785750836,
          -6.502121087038712,
          -10.02232945952888,
          -1.211946453661315,
          -5.9504992068779465,
          -3.6034437611312446,
          -0.6132212547956659,
          -10.341566179224177,
          -6.561697370222412,
          -9.067880772593123,
          -2.346732606068119,
          0.07317755205288101,
          -8.958887901793688,
          -10.263931009656723,
          -5.9084637579065244,
          -6.4058323875575285,
          -7.00039289158101,
          -1.8319881134989553,
          -8.337440938903733,
          -7.610656351640307,
          -8.247200310167372,
          -9.556348060084519,
          -0.22993288873691453,
          -5.438791053012314,
          -1.9274479855745354,
          -2.4875074767773766,
          -6.619782982601562,
          -9.980303095353097,
          -1.0545233380518768,
          -0.757969185355724,
          -5.904543613663969,
          -8.876294795417436,
          -2.4139578469451726,
          -4.536556476851341,
          -3.3711845882306197,
          -9.647166524988995,
          -2.5400233905245835,
          -6.441520007079706,
          -9.74891334226533,
          -7.02121319047935,
          -5.515990112348652,
          0.5260155005846419,
          -3.243938660074552,
          -6.410773098547172,
          -8.183997582217467,
          -11.855694368099854,
          -5.845269632424618,
          -2.8020781039706595,
          -11.227770639320063,
          -3.8205761556194533,
          -0.5257904636130821,
          -0.7587039566841077,
          -6.7842171065351,
          -9.574218149588988,
          -10.617713347601232,
          -4.209012452227748,
          -1.5394009534668904,
          -9.765217944474363,
          -6.46256290336211,
          -2.2597078562625024,
          -4.874182454688006,
          -4.007973921054954,
          -0.5279305184970926,
          -1.5495769017472356,
          -4.886016376076314,
          -6.2140455766470755,
          -10.372997453743215,
          -9.257156052556827,
          -7.104967667761696,
          -2.760179083161441,
          -3.103673711378109,
          -5.151383610424647,
          -6.3593037998512125,
          -5.85749376747172,
          -1.8818880485588787,
          -2.7768702545837973,
          -2.622145237172645,
          -7.627187614676829,
          -3.491205935907133,
          -2.406718199699357,
          -6.822212742575944,
          -6.258268205140967,
          -3.937811493021903,
          -5.653713071607574,
          -1.340520809891421,
          -2.1806357008589976,
          -6.5538934939898725,
          -10.4448410684391,
          -8.798794623751593,
          -9.204905637733754,
          -1.6087521511724905,
          -7.175329210075055,
          -1.626484168095364,
          -1.4729985149602352,
          -11.370829823899857,
          -1.4686444212810534,
          -2.9985651710131025,
          -9.919891375740395,
          -8.370061750504195,
          -10.668374789942131,
          -5.782459216509934,
          -2.232849355131317,
          -10.036408012919152,
          -1.6974187015027367,
          -2.1746420055502083,
          -6.140747575891959,
          -0.8205764920740146,
          -8.396833850174987,
          -1.480003904909175,
          -6.168573048411365,
          -7.711798871912647,
          -1.3739725806942609,
          -7.066773666495743,
          -2.351220657673829,
          -1.4294651705841361,
          -5.733425071070147,
          -11.196980535988288,
          -1.6034864154095838,
          -10.51480696157333,
          -2.3308060367853387,
          -1.499522836500689,
          -7.715671796738422,
          -7.465760375446665,
          -2.7704910227888853,
          -1.4612601858217498,
          -9.128826346647234,
          -10.30782927717116,
          -2.302592451138784,
          -5.620215619859882,
          -2.765994941643778,
          -5.447932584800439,
          -11.092624349394143
         ],
         "xaxis": "x",
         "y": [
          5.234464511450407,
          -7.04217140606354,
          -2.167335390479533,
          -9.495903894001481,
          -8.473029703522716,
          -3.783479054426271,
          0.30766086378924756,
          -4.394512381696782,
          -6.361069895648478,
          5.148534029420497,
          -3.914882890986365,
          -3.145609940024892,
          -1.1662545014093166,
          -4.072402735138015,
          -2.826318013675776,
          4.108397033740446,
          4.330918155822106,
          -3.906781248939059,
          -7.277389176974745,
          -8.464213082926896,
          4.993113060025359,
          -2.5031234589666624,
          0.5861136549822774,
          -1.6889415166580588,
          1.5708629196682211,
          -3.8156473373658186,
          -7.108786009916786,
          0.6695406932879138,
          1.099862033668571,
          -4.557269175156462,
          -7.478516578936072,
          0.10388664128054259,
          4.9893050825589835,
          -3.8220570630343573,
          -7.328198280185059,
          3.5188609047583252,
          -1.98624679810847,
          -8.356622553588604,
          -2.823864639451285,
          2.8869397336678486,
          -5.703859455562648,
          -4.812864488195191,
          1.5041481800667877,
          0.3633053703561067,
          -9.043783688787093,
          0.5921583544133936,
          -4.05509441989235,
          -3.007858358165766,
          -7.939694203288603,
          2.3842886530191585,
          3.4707204345840927,
          -3.688589990209892,
          -3.9565726820119704,
          4.022435514174746,
          -2.502875028036429,
          -4.128051707105706,
          3.6452829679480585,
          -1.337829241849687,
          -8.024126524913319,
          -9.386348840070472,
          -3.3597700241261377,
          -3.5262944419676256,
          -3.4632237779822654,
          -3.5319573898396825,
          -8.043825408198616,
          2.3463491593455075,
          4.054240022349643,
          -5.097689936986347,
          2.0548627629088605,
          -7.912491012386313,
          -4.728510166532364,
          0.8116947771218962,
          -8.739752043445637,
          0.3284394953510203,
          0.15829783238556006,
          -3.9097516905289575,
          -6.860002222091783,
          -1.151256645522965,
          3.561284227344442,
          -0.009199316853096606,
          -1.766368900388947,
          -3.920734000669846,
          -4.1333748410468365,
          -9.780666445240302,
          -3.956554136762635,
          3.5286314509217895,
          -7.839680384160613,
          -8.352065967512942,
          -8.818982622823171,
          -4.053503780646705,
          1.3407175355614527,
          -1.545426348334561,
          4.9368453355813475,
          0.8627990865914263,
          -3.3196252022745143,
          -5.075367276110093,
          1.696352613314902,
          4.908984207745029,
          -7.783735388248322,
          -3.544448009426377,
          5.659358024076449,
          -8.401862882339504,
          0.8527151602267309,
          -5.265631958600636,
          1.2539448618846962,
          -8.588184787579273,
          -4.249989699734067,
          -8.379542347137651,
          -2.2038766446741613,
          3.009993533355024,
          -2.264200834105587,
          -3.8860552446321743,
          -6.1971492009204034,
          -2.7171845169103843,
          -3.695783857339091,
          4.057147146430284,
          -3.402811051386989,
          1.4911242775529543,
          3.3065986015291307,
          3.7227620096688283,
          -8.226340808371322,
          -3.8760084790146454,
          -3.255316513290986,
          -4.55994238497167,
          5.023692978550581,
          -3.2707971404987193,
          -7.732945900976985,
          1.5817281042993203,
          -10.049589027515138,
          1.128829044436472,
          5.92630668526536,
          -2.0061997875857838,
          -3.7501297022920634,
          -2.877660704131328,
          -4.592078954817427,
          -4.907049149171139,
          -3.9693630589832156,
          5.551213578682775,
          3.90202400589671,
          -2.783518418895034,
          -3.3861473419125483,
          -2.3040148081234553,
          4.205731799913164,
          4.640905566660254,
          1.7155034242636267,
          -6.1983500296150105,
          2.5442946283781653,
          6.098944469870908,
          -7.951397925750041,
          -2.911597738863084,
          1.6969497981220951,
          -2.1326637550143484,
          4.157119493365752,
          0.6008757114053863,
          -1.4659363731850437,
          -2.7288408425577058,
          -3.7681921298792607,
          -4.5768792770429965,
          3.769494222273808,
          -8.770590168336406,
          1.8986630017242312,
          4.816541516051418,
          -3.6381891553209127,
          6.506745005322004,
          0.24331435398353962,
          -3.3349682853646803,
          -3.615336850788729,
          -3.5757847610422853,
          -3.7694636001479305,
          0.6021543357591482,
          -5.5691209020665,
          2.0092338724433763,
          0.7848836255031636,
          -1.8867305969393389,
          5.337591950146718,
          -9.913916665022828,
          1.1006089235155598,
          -4.614465775368402,
          -7.251741212975334,
          5.291631033113889,
          -9.549848529219476,
          4.0097363419871845,
          5.168501049155187,
          -8.440535968100065,
          -3.090003229819183,
          -0.3996479913741764,
          -4.950375375013468,
          4.39382526992426,
          5.282658789959386,
          -1.8565323883106086,
          -7.329222486173637,
          1.9690207478218325,
          4.525498514650621,
          -3.2029369074981964,
          -6.388186311470344,
          1.931622566155364,
          -3.1399739067467087,
          0.23911165619180053,
          -7.6504872226241405,
          -3.7839661143045364
         ],
         "yaxis": "y"
        },
        {
         "hovertemplate": "x=%{x}<br>y=%{y}<br>color=%{marker.color}<extra></extra>",
         "legendgroup": "",
         "marker": {
          "color": [
           0,
           1,
           2,
           3,
           4
          ],
          "coloraxis": "coloraxis",
          "symbol": "circle"
         },
         "mode": "markers",
         "name": "",
         "orientation": "v",
         "showlegend": false,
         "type": "scatter",
         "x": [
          -2.1706975575575798,
          -9.856205216211805,
          -6.879589985673216,
          -5.903680782936749,
          -1.5833852832449526
         ],
         "xaxis": "x",
         "y": [
          1.025919785255571,
          -3.910217381939227,
          -8.116481038348429,
          -3.044896409377455,
          4.505204570716482
         ],
         "yaxis": "y"
        }
       ],
       "layout": {
        "template": {
         "data": {
          "bar": [
           {
            "error_x": {
             "color": "#2a3f5f"
            },
            "error_y": {
             "color": "#2a3f5f"
            },
            "marker": {
             "line": {
              "color": "#E5ECF6",
              "width": 0.5
             },
             "pattern": {
              "fillmode": "overlay",
              "size": 10,
              "solidity": 0.2
             }
            },
            "type": "bar"
           }
          ],
          "barpolar": [
           {
            "marker": {
             "line": {
              "color": "#E5ECF6",
              "width": 0.5
             },
             "pattern": {
              "fillmode": "overlay",
              "size": 10,
              "solidity": 0.2
             }
            },
            "type": "barpolar"
           }
          ],
          "carpet": [
           {
            "aaxis": {
             "endlinecolor": "#2a3f5f",
             "gridcolor": "white",
             "linecolor": "white",
             "minorgridcolor": "white",
             "startlinecolor": "#2a3f5f"
            },
            "baxis": {
             "endlinecolor": "#2a3f5f",
             "gridcolor": "white",
             "linecolor": "white",
             "minorgridcolor": "white",
             "startlinecolor": "#2a3f5f"
            },
            "type": "carpet"
           }
          ],
          "choropleth": [
           {
            "colorbar": {
             "outlinewidth": 0,
             "ticks": ""
            },
            "type": "choropleth"
           }
          ],
          "contour": [
           {
            "colorbar": {
             "outlinewidth": 0,
             "ticks": ""
            },
            "colorscale": [
             [
              0,
              "#0d0887"
             ],
             [
              0.1111111111111111,
              "#46039f"
             ],
             [
              0.2222222222222222,
              "#7201a8"
             ],
             [
              0.3333333333333333,
              "#9c179e"
             ],
             [
              0.4444444444444444,
              "#bd3786"
             ],
             [
              0.5555555555555556,
              "#d8576b"
             ],
             [
              0.6666666666666666,
              "#ed7953"
             ],
             [
              0.7777777777777778,
              "#fb9f3a"
             ],
             [
              0.8888888888888888,
              "#fdca26"
             ],
             [
              1,
              "#f0f921"
             ]
            ],
            "type": "contour"
           }
          ],
          "contourcarpet": [
           {
            "colorbar": {
             "outlinewidth": 0,
             "ticks": ""
            },
            "type": "contourcarpet"
           }
          ],
          "heatmap": [
           {
            "colorbar": {
             "outlinewidth": 0,
             "ticks": ""
            },
            "colorscale": [
             [
              0,
              "#0d0887"
             ],
             [
              0.1111111111111111,
              "#46039f"
             ],
             [
              0.2222222222222222,
              "#7201a8"
             ],
             [
              0.3333333333333333,
              "#9c179e"
             ],
             [
              0.4444444444444444,
              "#bd3786"
             ],
             [
              0.5555555555555556,
              "#d8576b"
             ],
             [
              0.6666666666666666,
              "#ed7953"
             ],
             [
              0.7777777777777778,
              "#fb9f3a"
             ],
             [
              0.8888888888888888,
              "#fdca26"
             ],
             [
              1,
              "#f0f921"
             ]
            ],
            "type": "heatmap"
           }
          ],
          "heatmapgl": [
           {
            "colorbar": {
             "outlinewidth": 0,
             "ticks": ""
            },
            "colorscale": [
             [
              0,
              "#0d0887"
             ],
             [
              0.1111111111111111,
              "#46039f"
             ],
             [
              0.2222222222222222,
              "#7201a8"
             ],
             [
              0.3333333333333333,
              "#9c179e"
             ],
             [
              0.4444444444444444,
              "#bd3786"
             ],
             [
              0.5555555555555556,
              "#d8576b"
             ],
             [
              0.6666666666666666,
              "#ed7953"
             ],
             [
              0.7777777777777778,
              "#fb9f3a"
             ],
             [
              0.8888888888888888,
              "#fdca26"
             ],
             [
              1,
              "#f0f921"
             ]
            ],
            "type": "heatmapgl"
           }
          ],
          "histogram": [
           {
            "marker": {
             "pattern": {
              "fillmode": "overlay",
              "size": 10,
              "solidity": 0.2
             }
            },
            "type": "histogram"
           }
          ],
          "histogram2d": [
           {
            "colorbar": {
             "outlinewidth": 0,
             "ticks": ""
            },
            "colorscale": [
             [
              0,
              "#0d0887"
             ],
             [
              0.1111111111111111,
              "#46039f"
             ],
             [
              0.2222222222222222,
              "#7201a8"
             ],
             [
              0.3333333333333333,
              "#9c179e"
             ],
             [
              0.4444444444444444,
              "#bd3786"
             ],
             [
              0.5555555555555556,
              "#d8576b"
             ],
             [
              0.6666666666666666,
              "#ed7953"
             ],
             [
              0.7777777777777778,
              "#fb9f3a"
             ],
             [
              0.8888888888888888,
              "#fdca26"
             ],
             [
              1,
              "#f0f921"
             ]
            ],
            "type": "histogram2d"
           }
          ],
          "histogram2dcontour": [
           {
            "colorbar": {
             "outlinewidth": 0,
             "ticks": ""
            },
            "colorscale": [
             [
              0,
              "#0d0887"
             ],
             [
              0.1111111111111111,
              "#46039f"
             ],
             [
              0.2222222222222222,
              "#7201a8"
             ],
             [
              0.3333333333333333,
              "#9c179e"
             ],
             [
              0.4444444444444444,
              "#bd3786"
             ],
             [
              0.5555555555555556,
              "#d8576b"
             ],
             [
              0.6666666666666666,
              "#ed7953"
             ],
             [
              0.7777777777777778,
              "#fb9f3a"
             ],
             [
              0.8888888888888888,
              "#fdca26"
             ],
             [
              1,
              "#f0f921"
             ]
            ],
            "type": "histogram2dcontour"
           }
          ],
          "mesh3d": [
           {
            "colorbar": {
             "outlinewidth": 0,
             "ticks": ""
            },
            "type": "mesh3d"
           }
          ],
          "parcoords": [
           {
            "line": {
             "colorbar": {
              "outlinewidth": 0,
              "ticks": ""
             }
            },
            "type": "parcoords"
           }
          ],
          "pie": [
           {
            "automargin": true,
            "type": "pie"
           }
          ],
          "scatter": [
           {
            "fillpattern": {
             "fillmode": "overlay",
             "size": 10,
             "solidity": 0.2
            },
            "type": "scatter"
           }
          ],
          "scatter3d": [
           {
            "line": {
             "colorbar": {
              "outlinewidth": 0,
              "ticks": ""
             }
            },
            "marker": {
             "colorbar": {
              "outlinewidth": 0,
              "ticks": ""
             }
            },
            "type": "scatter3d"
           }
          ],
          "scattercarpet": [
           {
            "marker": {
             "colorbar": {
              "outlinewidth": 0,
              "ticks": ""
             }
            },
            "type": "scattercarpet"
           }
          ],
          "scattergeo": [
           {
            "marker": {
             "colorbar": {
              "outlinewidth": 0,
              "ticks": ""
             }
            },
            "type": "scattergeo"
           }
          ],
          "scattergl": [
           {
            "marker": {
             "colorbar": {
              "outlinewidth": 0,
              "ticks": ""
             }
            },
            "type": "scattergl"
           }
          ],
          "scattermapbox": [
           {
            "marker": {
             "colorbar": {
              "outlinewidth": 0,
              "ticks": ""
             }
            },
            "type": "scattermapbox"
           }
          ],
          "scatterpolar": [
           {
            "marker": {
             "colorbar": {
              "outlinewidth": 0,
              "ticks": ""
             }
            },
            "type": "scatterpolar"
           }
          ],
          "scatterpolargl": [
           {
            "marker": {
             "colorbar": {
              "outlinewidth": 0,
              "ticks": ""
             }
            },
            "type": "scatterpolargl"
           }
          ],
          "scatterternary": [
           {
            "marker": {
             "colorbar": {
              "outlinewidth": 0,
              "ticks": ""
             }
            },
            "type": "scatterternary"
           }
          ],
          "surface": [
           {
            "colorbar": {
             "outlinewidth": 0,
             "ticks": ""
            },
            "colorscale": [
             [
              0,
              "#0d0887"
             ],
             [
              0.1111111111111111,
              "#46039f"
             ],
             [
              0.2222222222222222,
              "#7201a8"
             ],
             [
              0.3333333333333333,
              "#9c179e"
             ],
             [
              0.4444444444444444,
              "#bd3786"
             ],
             [
              0.5555555555555556,
              "#d8576b"
             ],
             [
              0.6666666666666666,
              "#ed7953"
             ],
             [
              0.7777777777777778,
              "#fb9f3a"
             ],
             [
              0.8888888888888888,
              "#fdca26"
             ],
             [
              1,
              "#f0f921"
             ]
            ],
            "type": "surface"
           }
          ],
          "table": [
           {
            "cells": {
             "fill": {
              "color": "#EBF0F8"
             },
             "line": {
              "color": "white"
             }
            },
            "header": {
             "fill": {
              "color": "#C8D4E3"
             },
             "line": {
              "color": "white"
             }
            },
            "type": "table"
           }
          ]
         },
         "layout": {
          "annotationdefaults": {
           "arrowcolor": "#2a3f5f",
           "arrowhead": 0,
           "arrowwidth": 1
          },
          "autotypenumbers": "strict",
          "coloraxis": {
           "colorbar": {
            "outlinewidth": 0,
            "ticks": ""
           }
          },
          "colorscale": {
           "diverging": [
            [
             0,
             "#8e0152"
            ],
            [
             0.1,
             "#c51b7d"
            ],
            [
             0.2,
             "#de77ae"
            ],
            [
             0.3,
             "#f1b6da"
            ],
            [
             0.4,
             "#fde0ef"
            ],
            [
             0.5,
             "#f7f7f7"
            ],
            [
             0.6,
             "#e6f5d0"
            ],
            [
             0.7,
             "#b8e186"
            ],
            [
             0.8,
             "#7fbc41"
            ],
            [
             0.9,
             "#4d9221"
            ],
            [
             1,
             "#276419"
            ]
           ],
           "sequential": [
            [
             0,
             "#0d0887"
            ],
            [
             0.1111111111111111,
             "#46039f"
            ],
            [
             0.2222222222222222,
             "#7201a8"
            ],
            [
             0.3333333333333333,
             "#9c179e"
            ],
            [
             0.4444444444444444,
             "#bd3786"
            ],
            [
             0.5555555555555556,
             "#d8576b"
            ],
            [
             0.6666666666666666,
             "#ed7953"
            ],
            [
             0.7777777777777778,
             "#fb9f3a"
            ],
            [
             0.8888888888888888,
             "#fdca26"
            ],
            [
             1,
             "#f0f921"
            ]
           ],
           "sequentialminus": [
            [
             0,
             "#0d0887"
            ],
            [
             0.1111111111111111,
             "#46039f"
            ],
            [
             0.2222222222222222,
             "#7201a8"
            ],
            [
             0.3333333333333333,
             "#9c179e"
            ],
            [
             0.4444444444444444,
             "#bd3786"
            ],
            [
             0.5555555555555556,
             "#d8576b"
            ],
            [
             0.6666666666666666,
             "#ed7953"
            ],
            [
             0.7777777777777778,
             "#fb9f3a"
            ],
            [
             0.8888888888888888,
             "#fdca26"
            ],
            [
             1,
             "#f0f921"
            ]
           ]
          },
          "colorway": [
           "#636efa",
           "#EF553B",
           "#00cc96",
           "#ab63fa",
           "#FFA15A",
           "#19d3f3",
           "#FF6692",
           "#B6E880",
           "#FF97FF",
           "#FECB52"
          ],
          "font": {
           "color": "#2a3f5f"
          },
          "geo": {
           "bgcolor": "white",
           "lakecolor": "white",
           "landcolor": "#E5ECF6",
           "showlakes": true,
           "showland": true,
           "subunitcolor": "white"
          },
          "hoverlabel": {
           "align": "left"
          },
          "hovermode": "closest",
          "mapbox": {
           "style": "light"
          },
          "paper_bgcolor": "white",
          "plot_bgcolor": "#E5ECF6",
          "polar": {
           "angularaxis": {
            "gridcolor": "white",
            "linecolor": "white",
            "ticks": ""
           },
           "bgcolor": "#E5ECF6",
           "radialaxis": {
            "gridcolor": "white",
            "linecolor": "white",
            "ticks": ""
           }
          },
          "scene": {
           "xaxis": {
            "backgroundcolor": "#E5ECF6",
            "gridcolor": "white",
            "gridwidth": 2,
            "linecolor": "white",
            "showbackground": true,
            "ticks": "",
            "zerolinecolor": "white"
           },
           "yaxis": {
            "backgroundcolor": "#E5ECF6",
            "gridcolor": "white",
            "gridwidth": 2,
            "linecolor": "white",
            "showbackground": true,
            "ticks": "",
            "zerolinecolor": "white"
           },
           "zaxis": {
            "backgroundcolor": "#E5ECF6",
            "gridcolor": "white",
            "gridwidth": 2,
            "linecolor": "white",
            "showbackground": true,
            "ticks": "",
            "zerolinecolor": "white"
           }
          },
          "shapedefaults": {
           "line": {
            "color": "#2a3f5f"
           }
          },
          "ternary": {
           "aaxis": {
            "gridcolor": "white",
            "linecolor": "white",
            "ticks": ""
           },
           "baxis": {
            "gridcolor": "white",
            "linecolor": "white",
            "ticks": ""
           },
           "bgcolor": "#E5ECF6",
           "caxis": {
            "gridcolor": "white",
            "linecolor": "white",
            "ticks": ""
           }
          },
          "title": {
           "x": 0.05
          },
          "xaxis": {
           "automargin": true,
           "gridcolor": "white",
           "linecolor": "white",
           "ticks": "",
           "title": {
            "standoff": 15
           },
           "zerolinecolor": "white",
           "zerolinewidth": 2
          },
          "yaxis": {
           "automargin": true,
           "gridcolor": "white",
           "linecolor": "white",
           "ticks": "",
           "title": {
            "standoff": 15
           },
           "zerolinecolor": "white",
           "zerolinewidth": 2
          }
         }
        }
       }
      }
     },
     "metadata": {},
     "output_type": "display_data"
    }
   ],
   "source": [
    "graphic1 = px.scatter(x=X[:, 0], y=X[:, 1], color=labels, title=\"KMeans Clustering\")\n",
    "graphic2 = px.scatter(x=centers[:, 0], y=centers[:, 1], color=range(5), title=\"KMeans Clustering\")\n",
    "graphic3 = go.Figure(data=[graphic1.data[0], graphic2.data[0]])\n",
    "graphic3.show()"
   ]
  }
 ],
 "metadata": {
  "kernelspec": {
   "display_name": "Python 3",
   "language": "python",
   "name": "python3"
  },
  "language_info": {
   "codemirror_mode": {
    "name": "ipython",
    "version": 3
   },
   "file_extension": ".py",
   "mimetype": "text/x-python",
   "name": "python",
   "nbconvert_exporter": "python",
   "pygments_lexer": "ipython3",
   "version": "3.12.4"
  }
 },
 "nbformat": 4,
 "nbformat_minor": 2
}
