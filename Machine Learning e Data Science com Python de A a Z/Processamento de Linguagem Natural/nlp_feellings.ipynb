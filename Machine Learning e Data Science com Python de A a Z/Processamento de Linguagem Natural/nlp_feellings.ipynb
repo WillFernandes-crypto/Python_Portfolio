{
 "cells": [
  {
   "cell_type": "code",
   "execution_count": 60,
   "metadata": {},
   "outputs": [],
   "source": [
    "import pandas as pd\n",
    "import string\n",
    "import spacy\n",
    "import random\n",
    "import seaborn as sns\n",
    "import numpy as np\n",
    "import matplotlib.pyplot as plt\n",
    "\n",
    "from spacy.lang.pt.stop_words import STOP_WORDS\n",
    "from spacy.training import Example\n",
    "from sklearn.metrics import confusion_matrix, accuracy_score"
   ]
  },
  {
   "cell_type": "markdown",
   "metadata": {},
   "source": [
    "### Database"
   ]
  },
  {
   "cell_type": "code",
   "execution_count": 71,
   "metadata": {},
   "outputs": [],
   "source": [
    "base = pd.read_csv('data/feellings/base_treinamento.txt', encoding='utf-8')"
   ]
  },
  {
   "cell_type": "code",
   "execution_count": 5,
   "metadata": {},
   "outputs": [
    {
     "data": {
      "text/plain": [
       "(196, 2)"
      ]
     },
     "execution_count": 5,
     "metadata": {},
     "output_type": "execute_result"
    }
   ],
   "source": [
    "base.shape"
   ]
  },
  {
   "cell_type": "code",
   "execution_count": 6,
   "metadata": {},
   "outputs": [
    {
     "data": {
      "text/html": [
       "<div>\n",
       "<style scoped>\n",
       "    .dataframe tbody tr th:only-of-type {\n",
       "        vertical-align: middle;\n",
       "    }\n",
       "\n",
       "    .dataframe tbody tr th {\n",
       "        vertical-align: top;\n",
       "    }\n",
       "\n",
       "    .dataframe thead th {\n",
       "        text-align: right;\n",
       "    }\n",
       "</style>\n",
       "<table border=\"1\" class=\"dataframe\">\n",
       "  <thead>\n",
       "    <tr style=\"text-align: right;\">\n",
       "      <th></th>\n",
       "      <th>texto</th>\n",
       "      <th>emocao</th>\n",
       "    </tr>\n",
       "  </thead>\n",
       "  <tbody>\n",
       "    <tr>\n",
       "      <th>0</th>\n",
       "      <td>este trabalho é agradável</td>\n",
       "      <td>alegria</td>\n",
       "    </tr>\n",
       "    <tr>\n",
       "      <th>1</th>\n",
       "      <td>gosto de ficar no seu aconchego</td>\n",
       "      <td>alegria</td>\n",
       "    </tr>\n",
       "    <tr>\n",
       "      <th>2</th>\n",
       "      <td>fiz a adesão ao curso hoje</td>\n",
       "      <td>alegria</td>\n",
       "    </tr>\n",
       "    <tr>\n",
       "      <th>3</th>\n",
       "      <td>eu sou admirada por muitos</td>\n",
       "      <td>alegria</td>\n",
       "    </tr>\n",
       "    <tr>\n",
       "      <th>4</th>\n",
       "      <td>adoro como você</td>\n",
       "      <td>alegria</td>\n",
       "    </tr>\n",
       "  </tbody>\n",
       "</table>\n",
       "</div>"
      ],
      "text/plain": [
       "                             texto   emocao\n",
       "0        este trabalho é agradável  alegria\n",
       "1  gosto de ficar no seu aconchego  alegria\n",
       "2       fiz a adesão ao curso hoje  alegria\n",
       "3       eu sou admirada por muitos  alegria\n",
       "4                  adoro como você  alegria"
      ]
     },
     "execution_count": 6,
     "metadata": {},
     "output_type": "execute_result"
    }
   ],
   "source": [
    "base.head()"
   ]
  },
  {
   "cell_type": "code",
   "execution_count": 12,
   "metadata": {},
   "outputs": [
    {
     "data": {
      "image/png": "[encoded data removed]",
      "text/plain": [
       "<Figure size 640x480 with 1 Axes>"
      ]
     },
     "metadata": {},
     "output_type": "display_data"
    }
   ],
   "source": [
    "sns.countplot(x='emocao', hue='emocao', data=base, palette='viridis', legend=False);"
   ]
  },
  {
   "cell_type": "markdown",
   "metadata": {},
   "source": [
    "### Text preprocessing function"
   ]
  },
  {
   "cell_type": "code",
   "execution_count": 13,
   "metadata": {},
   "outputs": [
    {
     "data": {
      "text/plain": [
       "'!\"#$%&\\'()*+,-./:;<=>?@[\\\\]^_`{|}~'"
      ]
     },
     "execution_count": 13,
     "metadata": {},
     "output_type": "execute_result"
    }
   ],
   "source": [
    "pontuations = string.punctuation\n",
    "pontuations"
   ]
  },
  {
   "cell_type": "code",
   "execution_count": 15,
   "metadata": {},
   "outputs": [],
   "source": [
    "stop_words = STOP_WORDS"
   ]
  },
  {
   "cell_type": "code",
   "execution_count": 17,
   "metadata": {},
   "outputs": [
    {
     "data": {
      "text/plain": [
       "<spacy.lang.pt.Portuguese at 0x1dd7902c0e0>"
      ]
     },
     "execution_count": 17,
     "metadata": {},
     "output_type": "execute_result"
    }
   ],
   "source": [
    "nlp = spacy.load('pt_core_news_sm')\n",
    "nlp"
   ]
  },
  {
   "cell_type": "code",
   "execution_count": 25,
   "metadata": {},
   "outputs": [],
   "source": [
    "def preprocessing(text):\n",
    "    text = text.lower()\n",
    "    doc = nlp(text)\n",
    "    \n",
    "    list = []\n",
    "    \n",
    "    for token in doc:\n",
    "        #list.append(token.text)\n",
    "        list.append(token.lemma_)\n",
    "        \n",
    "    list = [word for word in list if word not in stop_words and word not in pontuations]\n",
    "    list = ' '.join([str(element) for element in list if not element.isdigit()]) \n",
    "                \n",
    "    return list"
   ]
  },
  {
   "cell_type": "code",
   "execution_count": 26,
   "metadata": {},
   "outputs": [
    {
     "data": {
      "text/plain": [
       "'esforçar aprender nlp'"
      ]
     },
     "execution_count": 26,
     "metadata": {},
     "output_type": "execute_result"
    }
   ],
   "source": [
    "test = preprocessing('Eu estou me esforçando para aprender NLP')\n",
    "test"
   ]
  },
  {
   "cell_type": "markdown",
   "metadata": {},
   "source": [
    "### Preprocessing on database"
   ]
  },
  {
   "cell_type": "markdown",
   "metadata": {},
   "source": [
    "##### Text cleaning"
   ]
  },
  {
   "cell_type": "code",
   "execution_count": 27,
   "metadata": {},
   "outputs": [],
   "source": [
    "base['texto'] = base['texto'].apply(preprocessing)"
   ]
  },
  {
   "cell_type": "markdown",
   "metadata": {},
   "source": [
    "##### Class treatment"
   ]
  },
  {
   "cell_type": "code",
   "execution_count": 28,
   "metadata": {},
   "outputs": [],
   "source": [
    "exemple_base = [[\"algumas coisas são importantes demais para desistir\", {\"ALEGRIA\": True, \"MEDO\": False}],\n",
    "                [\"este lugar é assustador\", {\"ALEGRIA\": False, \"MEDO\": True}]]"
   ]
  },
  {
   "cell_type": "code",
   "execution_count": 29,
   "metadata": {},
   "outputs": [],
   "source": [
    "base_final = []\n",
    "\n",
    "i = 0\n",
    "\n",
    "for text, emotion in zip(base['texto'], base['emocao']):\n",
    "    if emotion == 'alegria':\n",
    "        dic = {\"ALEGRIA\": True, \"MEDO\": False}\n",
    "    else:\n",
    "        dic = {\"ALEGRIA\": False, \"MEDO\": True}\n",
    "        \n",
    "    base_final.append([text, dic.copy()])"
   ]
  },
  {
   "cell_type": "code",
   "execution_count": 30,
   "metadata": {},
   "outputs": [
    {
     "data": {
      "text/plain": [
       "196"
      ]
     },
     "execution_count": 30,
     "metadata": {},
     "output_type": "execute_result"
    }
   ],
   "source": [
    "len(base_final)"
   ]
  },
  {
   "cell_type": "markdown",
   "metadata": {},
   "source": [
    "### Building the classifier"
   ]
  },
  {
   "cell_type": "code",
   "execution_count": 32,
   "metadata": {},
   "outputs": [],
   "source": [
    "model = spacy.blank('pt')\n",
    "categories = model.add_pipe('textcat')\n",
    "categories.add_label(\"ALEGRIA\")\n",
    "categories.add_label(\"MEDO\")\n",
    "history = []"
   ]
  },
  {
   "cell_type": "code",
   "execution_count": 35,
   "metadata": {},
   "outputs": [
    {
     "name": "stdout",
     "output_type": "stream",
     "text": [
      "{'textcat': 1.7530183494091034}\n",
      "{'textcat': 4.5789292930226155e-11}\n",
      "{'textcat': 4.931719691913389e-12}\n",
      "{'textcat': 1.2820460906543159e-12}\n",
      "{'textcat': 4.535567291885515e-13}\n",
      "{'textcat': 1.8496754692134965e-13}\n",
      "{'textcat': 8.903803369036544e-14}\n",
      "{'textcat': 4.309309045331402e-14}\n",
      "{'textcat': 2.374687371401444e-14}\n",
      "{'textcat': 1.1846174042808656e-14}\n"
     ]
    }
   ],
   "source": [
    "model.begin_training()\n",
    "for epoch in range(1000):\n",
    "    random.shuffle(base_final)\n",
    "    losses = {}\n",
    "    for batch in spacy.util.minibatch(base_final, size=30):\n",
    "        examples = [Example.from_dict(model.make_doc(text), {'cats': entities}) for text, entities in batch]\n",
    "        model.update(examples, losses=losses)\n",
    "    if epoch % 100 == 0:\n",
    "        print(losses)\n",
    "        history.append(losses)"
   ]
  },
  {
   "cell_type": "code",
   "execution_count": 36,
   "metadata": {},
   "outputs": [],
   "source": [
    "history_loss = []\n",
    "for i in history:\n",
    "    history_loss.append(i.get('textcat'))"
   ]
  },
  {
   "cell_type": "code",
   "execution_count": 37,
   "metadata": {},
   "outputs": [
    {
     "data": {
      "text/plain": [
       "array([1.75301835e+00, 4.57892929e-11, 4.93171969e-12, 1.28204609e-12,\n",
       "       4.53556729e-13, 1.84967547e-13, 8.90380337e-14, 4.30930905e-14,\n",
       "       2.37468737e-14, 1.18461740e-14])"
      ]
     },
     "execution_count": 37,
     "metadata": {},
     "output_type": "execute_result"
    }
   ],
   "source": [
    "history_loss = np.array(history_loss)\n",
    "history_loss"
   ]
  },
  {
   "cell_type": "code",
   "execution_count": 39,
   "metadata": {},
   "outputs": [
    {
     "data": {
      "text/plain": [
       "Text(0, 0.5, 'Erro')"
      ]
     },
     "execution_count": 39,
     "metadata": {},
     "output_type": "execute_result"
    },
    {
     "data": {
      "image/png": "[encoded data removed]",
      "text/plain": [
       "<Figure size 640x480 with 1 Axes>"
      ]
     },
     "metadata": {},
     "output_type": "display_data"
    }
   ],
   "source": [
    "plt.plot(history_loss)\n",
    "plt.title('Progressão do erro')\n",
    "plt.xlabel('Épocas')\n",
    "plt.ylabel('Erro')"
   ]
  },
  {
   "cell_type": "code",
   "execution_count": 41,
   "metadata": {},
   "outputs": [],
   "source": [
    "model.to_disk('model')"
   ]
  },
  {
   "cell_type": "markdown",
   "metadata": {},
   "source": [
    "### One phrase test"
   ]
  },
  {
   "cell_type": "code",
   "execution_count": 42,
   "metadata": {},
   "outputs": [
    {
     "data": {
      "text/plain": [
       "<spacy.lang.pt.Portuguese at 0x1dd7b0ebb90>"
      ]
     },
     "execution_count": 42,
     "metadata": {},
     "output_type": "execute_result"
    }
   ],
   "source": [
    "loaded_model = spacy.load('data/feellings/model')\n",
    "loaded_model"
   ]
  },
  {
   "cell_type": "code",
   "execution_count": 50,
   "metadata": {},
   "outputs": [],
   "source": [
    "positive_text = 'Eu estou muito feliz'"
   ]
  },
  {
   "cell_type": "code",
   "execution_count": 51,
   "metadata": {},
   "outputs": [
    {
     "data": {
      "text/plain": [
       "'feliz'"
      ]
     },
     "execution_count": 51,
     "metadata": {},
     "output_type": "execute_result"
    }
   ],
   "source": [
    "positive_text = preprocessing(positive_text)\n",
    "positive_text"
   ]
  },
  {
   "cell_type": "code",
   "execution_count": 52,
   "metadata": {},
   "outputs": [
    {
     "data": {
      "text/plain": [
       "feliz"
      ]
     },
     "execution_count": 52,
     "metadata": {},
     "output_type": "execute_result"
    }
   ],
   "source": [
    "prediction = loaded_model(positive_text)\n",
    "prediction"
   ]
  },
  {
   "cell_type": "code",
   "execution_count": 53,
   "metadata": {},
   "outputs": [
    {
     "data": {
      "text/plain": [
       "{'ALEGRIA': 0.32886654138565063, 'MEDO': 0.6711334586143494}"
      ]
     },
     "execution_count": 53,
     "metadata": {},
     "output_type": "execute_result"
    }
   ],
   "source": [
    "prediction.cats"
   ]
  },
  {
   "cell_type": "code",
   "execution_count": 54,
   "metadata": {},
   "outputs": [
    {
     "data": {
      "text/plain": [
       "{'ALEGRIA': 0.3349294066429138, 'MEDO': 0.6650705933570862}"
      ]
     },
     "execution_count": 54,
     "metadata": {},
     "output_type": "execute_result"
    }
   ],
   "source": [
    "negative_text = 'Eu estou com medo'\n",
    "prediction = loaded_model(negative_text)\n",
    "prediction.cats"
   ]
  },
  {
   "cell_type": "markdown",
   "metadata": {},
   "source": [
    "### Model evaluation"
   ]
  },
  {
   "cell_type": "markdown",
   "metadata": {},
   "source": [
    "##### Train base evaluation"
   ]
  },
  {
   "cell_type": "code",
   "execution_count": 55,
   "metadata": {},
   "outputs": [],
   "source": [
    "predictions = []\n",
    "for text in base['texto']:\n",
    "    prediction = loaded_model(text)\n",
    "    predictions.append(prediction.cats)"
   ]
  },
  {
   "cell_type": "code",
   "execution_count": 56,
   "metadata": {},
   "outputs": [
    {
     "data": {
      "text/plain": [
       "[{'ALEGRIA': 1.0, 'MEDO': 1.2586609532405646e-09},\n",
       " {'ALEGRIA': 1.0, 'MEDO': 2.8357883152807517e-08},\n",
       " {'ALEGRIA': 1.0, 'MEDO': 6.725753731728901e-09},\n",
       " {'ALEGRIA': 1.0, 'MEDO': 2.0394624655750704e-08},\n",
       " {'ALEGRIA': 1.0, 'MEDO': 2.101369300788747e-09},\n",
       " {'ALEGRIA': 1.0, 'MEDO': 7.181574446235572e-09},\n",
       " {'ALEGRIA': 1.0, 'MEDO': 8.462415657106703e-09},\n",
       " {'ALEGRIA': 1.0, 'MEDO': 1.3106994600775579e-08},\n",
       " {'ALEGRIA': 1.0, 'MEDO': 4.357158189804977e-09},\n",
       " {'ALEGRIA': 1.0, 'MEDO': 2.6822704057849478e-08},\n",
       " {'ALEGRIA': 1.0, 'MEDO': 2.1379080727967903e-09},\n",
       " {'ALEGRIA': 1.0, 'MEDO': 1.7385346495757403e-09},\n",
       " {'ALEGRIA': 1.0, 'MEDO': 2.0086470264857326e-09},\n",
       " {'ALEGRIA': 1.0, 'MEDO': 1.0111391723910401e-08},\n",
       " {'ALEGRIA': 1.0, 'MEDO': 3.542954374324836e-08},\n",
       " {'ALEGRIA': 1.0, 'MEDO': 1.8691650893742917e-08},\n",
       " {'ALEGRIA': 1.0, 'MEDO': 5.769434707758592e-09},\n",
       " {'ALEGRIA': 1.0, 'MEDO': 1.0744111156313352e-09},\n",
       " {'ALEGRIA': 1.0, 'MEDO': 7.58311458071148e-09},\n",
       " {'ALEGRIA': 1.0, 'MEDO': 7.7053226021917e-09},\n",
       " {'ALEGRIA': 1.0, 'MEDO': 1.6134553249003147e-08},\n",
       " {'ALEGRIA': 1.0, 'MEDO': 4.8918565198619035e-08},\n",
       " {'ALEGRIA': 1.0, 'MEDO': 1.2385641845469308e-08},\n",
       " {'ALEGRIA': 1.0, 'MEDO': 7.3966650582235616e-09},\n",
       " {'ALEGRIA': 1.0, 'MEDO': 3.908890988668645e-09},\n",
       " {'ALEGRIA': 1.0, 'MEDO': 3.183926367000822e-08},\n",
       " {'ALEGRIA': 1.0, 'MEDO': 1.6211982867275765e-08},\n",
       " {'ALEGRIA': 1.0, 'MEDO': 1.551982187208978e-08},\n",
       " {'ALEGRIA': 1.0, 'MEDO': 8.954882169120992e-09},\n",
       " {'ALEGRIA': 1.0, 'MEDO': 2.902937623616708e-08},\n",
       " {'ALEGRIA': 1.0, 'MEDO': 3.4881527000152346e-08},\n",
       " {'ALEGRIA': 1.0, 'MEDO': 5.592877272420083e-09},\n",
       " {'ALEGRIA': 1.0, 'MEDO': 1.9863865219349464e-08},\n",
       " {'ALEGRIA': 1.0, 'MEDO': 1.1659181176071343e-08},\n",
       " {'ALEGRIA': 1.0, 'MEDO': 1.625852341646805e-08},\n",
       " {'ALEGRIA': 1.0, 'MEDO': 1.4397442349434186e-08},\n",
       " {'ALEGRIA': 1.0, 'MEDO': 3.565651240933221e-08},\n",
       " {'ALEGRIA': 1.0, 'MEDO': 1.4260272962474119e-08},\n",
       " {'ALEGRIA': 1.0, 'MEDO': 6.633742444250856e-09},\n",
       " {'ALEGRIA': 1.0, 'MEDO': 2.2650656461564722e-08},\n",
       " {'ALEGRIA': 0.9999998807907104, 'MEDO': 6.186681389408477e-08},\n",
       " {'ALEGRIA': 0.9999998807907104, 'MEDO': 6.121932472069602e-08},\n",
       " {'ALEGRIA': 1.0, 'MEDO': 4.88388263164552e-09},\n",
       " {'ALEGRIA': 1.0, 'MEDO': 1.4642562717881447e-08},\n",
       " {'ALEGRIA': 1.0, 'MEDO': 1.1302729419071511e-08},\n",
       " {'ALEGRIA': 1.0, 'MEDO': 1.6735222985175824e-08},\n",
       " {'ALEGRIA': 1.0, 'MEDO': 1.905740276697543e-08},\n",
       " {'ALEGRIA': 1.0, 'MEDO': 2.238181728841937e-08},\n",
       " {'ALEGRIA': 1.0, 'MEDO': 3.1416508505799356e-08},\n",
       " {'ALEGRIA': 1.0, 'MEDO': 2.844779745103665e-09},\n",
       " {'ALEGRIA': 1.0, 'MEDO': 1.8095088094582934e-08},\n",
       " {'ALEGRIA': 1.0, 'MEDO': 3.8720715522799765e-09},\n",
       " {'ALEGRIA': 1.0, 'MEDO': 2.9487534192185194e-08},\n",
       " {'ALEGRIA': 1.0, 'MEDO': 3.8279162062337946e-09},\n",
       " {'ALEGRIA': 1.0, 'MEDO': 2.364924434061777e-08},\n",
       " {'ALEGRIA': 1.0, 'MEDO': 6.028766375010264e-09},\n",
       " {'ALEGRIA': 1.0, 'MEDO': 8.24547186084601e-09},\n",
       " {'ALEGRIA': 1.0, 'MEDO': 2.712154412165546e-08},\n",
       " {'ALEGRIA': 1.0, 'MEDO': 1.6260292667880094e-08},\n",
       " {'ALEGRIA': 1.0, 'MEDO': 1.3958738165342766e-08},\n",
       " {'ALEGRIA': 1.0, 'MEDO': 5.644220202327688e-09},\n",
       " {'ALEGRIA': 1.0, 'MEDO': 4.679082366010334e-08},\n",
       " {'ALEGRIA': 1.0, 'MEDO': 2.1155210916390388e-09},\n",
       " {'ALEGRIA': 1.0, 'MEDO': 2.715812685849528e-09},\n",
       " {'ALEGRIA': 1.0, 'MEDO': 6.678864128417672e-09},\n",
       " {'ALEGRIA': 1.0, 'MEDO': 1.653015857527862e-08},\n",
       " {'ALEGRIA': 1.0, 'MEDO': 3.858625419184136e-08},\n",
       " {'ALEGRIA': 1.0, 'MEDO': 1.577818053988267e-08},\n",
       " {'ALEGRIA': 1.0, 'MEDO': 3.0561583486132804e-08},\n",
       " {'ALEGRIA': 1.0, 'MEDO': 4.512151541291587e-09},\n",
       " {'ALEGRIA': 1.0, 'MEDO': 3.1005384926174884e-09},\n",
       " {'ALEGRIA': 1.0, 'MEDO': 8.686557251280647e-09},\n",
       " {'ALEGRIA': 1.0, 'MEDO': 2.5478673393308782e-08},\n",
       " {'ALEGRIA': 1.0, 'MEDO': 2.3304146168356965e-08},\n",
       " {'ALEGRIA': 1.0, 'MEDO': 2.0531777167320797e-08},\n",
       " {'ALEGRIA': 1.0, 'MEDO': 9.97825910786787e-09},\n",
       " {'ALEGRIA': 1.0, 'MEDO': 1.2806937732534607e-08},\n",
       " {'ALEGRIA': 1.0, 'MEDO': 4.997186309196877e-08},\n",
       " {'ALEGRIA': 1.0, 'MEDO': 1.6198188346194797e-09},\n",
       " {'ALEGRIA': 1.0, 'MEDO': 4.370794215446949e-08},\n",
       " {'ALEGRIA': 1.0, 'MEDO': 4.902831918229822e-08},\n",
       " {'ALEGRIA': 1.0, 'MEDO': 8.838998866167458e-09},\n",
       " {'ALEGRIA': 1.0, 'MEDO': 5.223847310276142e-08},\n",
       " {'ALEGRIA': 1.0, 'MEDO': 3.91531038701487e-08},\n",
       " {'ALEGRIA': 1.0, 'MEDO': 4.043465295922033e-08},\n",
       " {'ALEGRIA': 1.0, 'MEDO': 1.4825763727799313e-08},\n",
       " {'ALEGRIA': 1.0, 'MEDO': 2.9552625235851337e-08},\n",
       " {'ALEGRIA': 0.9999997615814209, 'MEDO': 1.8197839324329834e-07},\n",
       " {'ALEGRIA': 1.0, 'MEDO': 3.499274114915352e-08},\n",
       " {'ALEGRIA': 1.0, 'MEDO': 1.743283917221561e-08},\n",
       " {'ALEGRIA': 1.0, 'MEDO': 3.1167981973112546e-08},\n",
       " {'ALEGRIA': 1.0, 'MEDO': 1.197850174605719e-08},\n",
       " {'ALEGRIA': 1.0, 'MEDO': 3.5893683580923152e-09},\n",
       " {'ALEGRIA': 1.0, 'MEDO': 4.1838514874825705e-08},\n",
       " {'ALEGRIA': 1.0, 'MEDO': 2.5463018360483147e-09},\n",
       " {'ALEGRIA': 1.0, 'MEDO': 2.2780376696118765e-08},\n",
       " {'ALEGRIA': 1.0, 'MEDO': 1.11977351835435e-08},\n",
       " {'ALEGRIA': 1.0, 'MEDO': 5.6470521592189016e-09},\n",
       " {'ALEGRIA': 1.0, 'MEDO': 1.5336086178763253e-08},\n",
       " {'ALEGRIA': 1.0, 'MEDO': 1.1773037655871121e-08},\n",
       " {'ALEGRIA': 1.0, 'MEDO': 2.2288647372192827e-08},\n",
       " {'ALEGRIA': 1.0, 'MEDO': 8.915463922676281e-09},\n",
       " {'ALEGRIA': 1.0, 'MEDO': 5.62570123818773e-09},\n",
       " {'ALEGRIA': 1.0, 'MEDO': 2.4870619341754718e-08},\n",
       " {'ALEGRIA': 1.0, 'MEDO': 7.21774551237786e-09},\n",
       " {'ALEGRIA': 1.0, 'MEDO': 2.750732797096589e-08},\n",
       " {'ALEGRIA': 1.0, 'MEDO': 2.48343070552437e-08},\n",
       " {'ALEGRIA': 1.0, 'MEDO': 2.604063098488041e-08},\n",
       " {'ALEGRIA': 1.0, 'MEDO': 2.799555609556137e-08},\n",
       " {'ALEGRIA': 1.0, 'MEDO': 2.6321771429138607e-08},\n",
       " {'ALEGRIA': 1.0, 'MEDO': 1.780925096284136e-08},\n",
       " {'ALEGRIA': 1.0, 'MEDO': 1.0539924488739416e-08},\n",
       " {'ALEGRIA': 1.3087260164468262e-08, 'MEDO': 1.0},\n",
       " {'ALEGRIA': 6.193880963678566e-09, 'MEDO': 1.0},\n",
       " {'ALEGRIA': 1.5690490684505676e-08, 'MEDO': 1.0},\n",
       " {'ALEGRIA': 1.9638960679912998e-08, 'MEDO': 1.0},\n",
       " {'ALEGRIA': 2.1934559057967817e-08, 'MEDO': 1.0},\n",
       " {'ALEGRIA': 3.6376842871277404e-08, 'MEDO': 1.0},\n",
       " {'ALEGRIA': 6.205730151975786e-09, 'MEDO': 1.0},\n",
       " {'ALEGRIA': 3.681118698750652e-08, 'MEDO': 1.0},\n",
       " {'ALEGRIA': 3.395703984665488e-08, 'MEDO': 1.0},\n",
       " {'ALEGRIA': 3.200585041440718e-08, 'MEDO': 1.0},\n",
       " {'ALEGRIA': 3.4062907161569456e-08, 'MEDO': 1.0},\n",
       " {'ALEGRIA': 1.924134522823806e-07, 'MEDO': 0.9999997615814209},\n",
       " {'ALEGRIA': 2.846480029461418e-08, 'MEDO': 1.0},\n",
       " {'ALEGRIA': 1.4993002395158328e-08, 'MEDO': 1.0},\n",
       " {'ALEGRIA': 2.8074266467115194e-08, 'MEDO': 1.0},\n",
       " {'ALEGRIA': 2.2311361647098238e-08, 'MEDO': 1.0},\n",
       " {'ALEGRIA': 1.746218991627302e-08, 'MEDO': 1.0},\n",
       " {'ALEGRIA': 1.0428821362040708e-08, 'MEDO': 1.0},\n",
       " {'ALEGRIA': 1.4376394297244133e-08, 'MEDO': 1.0},\n",
       " {'ALEGRIA': 2.172396307287272e-08, 'MEDO': 1.0},\n",
       " {'ALEGRIA': 8.727994327273336e-09, 'MEDO': 1.0},\n",
       " {'ALEGRIA': 2.3797342763032248e-08, 'MEDO': 1.0},\n",
       " {'ALEGRIA': 4.753701077220285e-08, 'MEDO': 1.0},\n",
       " {'ALEGRIA': 1.4602010267594778e-08, 'MEDO': 1.0},\n",
       " {'ALEGRIA': 3.8034432492395354e-08, 'MEDO': 1.0},\n",
       " {'ALEGRIA': 2.71862337086759e-08, 'MEDO': 1.0},\n",
       " {'ALEGRIA': 9.092727459858452e-09, 'MEDO': 1.0},\n",
       " {'ALEGRIA': 2.710685542695046e-08, 'MEDO': 1.0},\n",
       " {'ALEGRIA': 3.5652281127340757e-09, 'MEDO': 1.0},\n",
       " {'ALEGRIA': 1.7225008974719458e-08, 'MEDO': 1.0},\n",
       " {'ALEGRIA': 2.2571036151219914e-09, 'MEDO': 1.0},\n",
       " {'ALEGRIA': 9.390079824811437e-09, 'MEDO': 1.0},\n",
       " {'ALEGRIA': 4.0597864625624425e-08, 'MEDO': 1.0},\n",
       " {'ALEGRIA': 2.7312687223002285e-08, 'MEDO': 1.0},\n",
       " {'ALEGRIA': 1.556927742285552e-08, 'MEDO': 1.0},\n",
       " {'ALEGRIA': 3.7715057743525904e-08, 'MEDO': 1.0},\n",
       " {'ALEGRIA': 4.650716789456055e-08, 'MEDO': 1.0},\n",
       " {'ALEGRIA': 5.641034306336223e-09, 'MEDO': 1.0},\n",
       " {'ALEGRIA': 3.4814860327969654e-08, 'MEDO': 1.0},\n",
       " {'ALEGRIA': 7.238011079380158e-09, 'MEDO': 1.0},\n",
       " {'ALEGRIA': 5.4432781837476796e-08, 'MEDO': 1.0},\n",
       " {'ALEGRIA': 3.9678450747260285e-08, 'MEDO': 1.0},\n",
       " {'ALEGRIA': 6.582272504829234e-08, 'MEDO': 0.9999998807907104},\n",
       " {'ALEGRIA': 2.7345683051294145e-08, 'MEDO': 1.0},\n",
       " {'ALEGRIA': 4.304123280007843e-08, 'MEDO': 1.0},\n",
       " {'ALEGRIA': 2.4072393856044982e-08, 'MEDO': 1.0},\n",
       " {'ALEGRIA': 3.89884853291278e-08, 'MEDO': 1.0},\n",
       " {'ALEGRIA': 7.76784503386807e-09, 'MEDO': 1.0},\n",
       " {'ALEGRIA': 1.815472394639528e-08, 'MEDO': 1.0},\n",
       " {'ALEGRIA': 2.481499095097206e-08, 'MEDO': 1.0},\n",
       " {'ALEGRIA': 7.495969178705764e-09, 'MEDO': 1.0},\n",
       " {'ALEGRIA': 2.7002002411791182e-08, 'MEDO': 1.0},\n",
       " {'ALEGRIA': 1.5690490684505676e-08, 'MEDO': 1.0},\n",
       " {'ALEGRIA': 3.612137078334854e-08, 'MEDO': 1.0},\n",
       " {'ALEGRIA': 2.4599767556310326e-08, 'MEDO': 1.0},\n",
       " {'ALEGRIA': 2.0625979146871032e-08, 'MEDO': 1.0},\n",
       " {'ALEGRIA': 3.005536441946788e-08, 'MEDO': 1.0},\n",
       " {'ALEGRIA': 2.1285302409523865e-08, 'MEDO': 1.0},\n",
       " {'ALEGRIA': 3.5301248146879516e-08, 'MEDO': 1.0},\n",
       " {'ALEGRIA': 1.742386324110612e-08, 'MEDO': 1.0},\n",
       " {'ALEGRIA': 3.0794407024359316e-08, 'MEDO': 1.0},\n",
       " {'ALEGRIA': 3.725832087297931e-08, 'MEDO': 1.0},\n",
       " {'ALEGRIA': 1.4568849238116854e-08, 'MEDO': 1.0},\n",
       " {'ALEGRIA': 3.2469714028593444e-08, 'MEDO': 1.0},\n",
       " {'ALEGRIA': 5.1774744491694946e-08, 'MEDO': 1.0},\n",
       " {'ALEGRIA': 4.664619979166673e-08, 'MEDO': 1.0},\n",
       " {'ALEGRIA': 4.0666375156206414e-08, 'MEDO': 1.0},\n",
       " {'ALEGRIA': 4.194166081106232e-08, 'MEDO': 1.0},\n",
       " {'ALEGRIA': 2.4120929253967915e-08, 'MEDO': 1.0},\n",
       " {'ALEGRIA': 2.5900597222516808e-08, 'MEDO': 1.0},\n",
       " {'ALEGRIA': 4.202221859372912e-08, 'MEDO': 1.0},\n",
       " {'ALEGRIA': 4.8372903904692066e-08, 'MEDO': 1.0},\n",
       " {'ALEGRIA': 9.596565320180162e-09, 'MEDO': 1.0},\n",
       " {'ALEGRIA': 5.113681567081585e-08, 'MEDO': 1.0},\n",
       " {'ALEGRIA': 4.043133472464433e-08, 'MEDO': 1.0},\n",
       " {'ALEGRIA': 2.030996171242805e-08, 'MEDO': 1.0},\n",
       " {'ALEGRIA': 5.848691486676216e-08, 'MEDO': 1.0},\n",
       " {'ALEGRIA': 1.6090512033883897e-08, 'MEDO': 1.0},\n",
       " {'ALEGRIA': 6.353212711474043e-08, 'MEDO': 0.9999998807907104},\n",
       " {'ALEGRIA': 2.971234813742285e-08, 'MEDO': 1.0},\n",
       " {'ALEGRIA': 2.6755767379427198e-08, 'MEDO': 1.0},\n",
       " {'ALEGRIA': 5.035169792222405e-08, 'MEDO': 1.0},\n",
       " {'ALEGRIA': 3.2102207114803605e-08, 'MEDO': 1.0},\n",
       " {'ALEGRIA': 5.357171062314592e-08, 'MEDO': 1.0}]"
      ]
     },
     "execution_count": 56,
     "metadata": {},
     "output_type": "execute_result"
    }
   ],
   "source": [
    "predictions"
   ]
  },
  {
   "cell_type": "code",
   "execution_count": 57,
   "metadata": {},
   "outputs": [],
   "source": [
    "final_predictions = []\n",
    "for prediction in predictions:\n",
    "    if prediction['ALEGRIA'] > prediction['MEDO']:\n",
    "        final_predictions.append('alegria')\n",
    "    else:\n",
    "        final_predictions.append('medo')\n",
    "final_predictions = np.array(final_predictions)"
   ]
  },
  {
   "cell_type": "code",
   "execution_count": 58,
   "metadata": {},
   "outputs": [
    {
     "data": {
      "text/plain": [
       "array(['alegria', 'alegria', 'alegria', 'alegria', 'alegria', 'alegria',\n",
       "       'alegria', 'alegria', 'alegria', 'alegria', 'alegria', 'alegria',\n",
       "       'alegria', 'alegria', 'alegria', 'alegria', 'alegria', 'alegria',\n",
       "       'alegria', 'alegria', 'alegria', 'alegria', 'alegria', 'alegria',\n",
       "       'alegria', 'alegria', 'alegria', 'alegria', 'alegria', 'alegria',\n",
       "       'alegria', 'alegria', 'alegria', 'alegria', 'alegria', 'alegria',\n",
       "       'alegria', 'alegria', 'alegria', 'alegria', 'alegria', 'alegria',\n",
       "       'alegria', 'alegria', 'alegria', 'alegria', 'alegria', 'alegria',\n",
       "       'alegria', 'alegria', 'alegria', 'alegria', 'alegria', 'alegria',\n",
       "       'alegria', 'alegria', 'alegria', 'alegria', 'alegria', 'alegria',\n",
       "       'alegria', 'alegria', 'alegria', 'alegria', 'alegria', 'alegria',\n",
       "       'alegria', 'alegria', 'alegria', 'alegria', 'alegria', 'alegria',\n",
       "       'alegria', 'alegria', 'alegria', 'alegria', 'alegria', 'alegria',\n",
       "       'alegria', 'alegria', 'alegria', 'alegria', 'alegria', 'alegria',\n",
       "       'alegria', 'alegria', 'alegria', 'alegria', 'alegria', 'alegria',\n",
       "       'alegria', 'alegria', 'alegria', 'alegria', 'alegria', 'alegria',\n",
       "       'alegria', 'alegria', 'alegria', 'alegria', 'alegria', 'alegria',\n",
       "       'alegria', 'alegria', 'alegria', 'alegria', 'alegria', 'alegria',\n",
       "       'alegria', 'alegria', 'alegria', 'alegria', 'medo', 'medo', 'medo',\n",
       "       'medo', 'medo', 'medo', 'medo', 'medo', 'medo', 'medo', 'medo',\n",
       "       'medo', 'medo', 'medo', 'medo', 'medo', 'medo', 'medo', 'medo',\n",
       "       'medo', 'medo', 'medo', 'medo', 'medo', 'medo', 'medo', 'medo',\n",
       "       'medo', 'medo', 'medo', 'medo', 'medo', 'medo', 'medo', 'medo',\n",
       "       'medo', 'medo', 'medo', 'medo', 'medo', 'medo', 'medo', 'medo',\n",
       "       'medo', 'medo', 'medo', 'medo', 'medo', 'medo', 'medo', 'medo',\n",
       "       'medo', 'medo', 'medo', 'medo', 'medo', 'medo', 'medo', 'medo',\n",
       "       'medo', 'medo', 'medo', 'medo', 'medo', 'medo', 'medo', 'medo',\n",
       "       'medo', 'medo', 'medo', 'medo', 'medo', 'medo', 'medo', 'medo',\n",
       "       'medo', 'medo', 'medo', 'medo', 'medo', 'medo', 'medo', 'medo',\n",
       "       'medo'], dtype='<U7')"
      ]
     },
     "execution_count": 58,
     "metadata": {},
     "output_type": "execute_result"
    }
   ],
   "source": [
    "final_predictions"
   ]
  },
  {
   "cell_type": "code",
   "execution_count": 59,
   "metadata": {},
   "outputs": [
    {
     "data": {
      "text/plain": [
       "array(['alegria', 'alegria', 'alegria', 'alegria', 'alegria', 'alegria',\n",
       "       'alegria', 'alegria', 'alegria', 'alegria', 'alegria', 'alegria',\n",
       "       'alegria', 'alegria', 'alegria', 'alegria', 'alegria', 'alegria',\n",
       "       'alegria', 'alegria', 'alegria', 'alegria', 'alegria', 'alegria',\n",
       "       'alegria', 'alegria', 'alegria', 'alegria', 'alegria', 'alegria',\n",
       "       'alegria', 'alegria', 'alegria', 'alegria', 'alegria', 'alegria',\n",
       "       'alegria', 'alegria', 'alegria', 'alegria', 'alegria', 'alegria',\n",
       "       'alegria', 'alegria', 'alegria', 'alegria', 'alegria', 'alegria',\n",
       "       'alegria', 'alegria', 'alegria', 'alegria', 'alegria', 'alegria',\n",
       "       'alegria', 'alegria', 'alegria', 'alegria', 'alegria', 'alegria',\n",
       "       'alegria', 'alegria', 'alegria', 'alegria', 'alegria', 'alegria',\n",
       "       'alegria', 'alegria', 'alegria', 'alegria', 'alegria', 'alegria',\n",
       "       'alegria', 'alegria', 'alegria', 'alegria', 'alegria', 'alegria',\n",
       "       'alegria', 'alegria', 'alegria', 'alegria', 'alegria', 'alegria',\n",
       "       'alegria', 'alegria', 'alegria', 'alegria', 'alegria', 'alegria',\n",
       "       'alegria', 'alegria', 'alegria', 'alegria', 'alegria', 'alegria',\n",
       "       'alegria', 'alegria', 'alegria', 'alegria', 'alegria', 'alegria',\n",
       "       'alegria', 'alegria', 'alegria', 'alegria', 'alegria', 'alegria',\n",
       "       'alegria', 'alegria', 'alegria', 'alegria', 'medo', 'medo', 'medo',\n",
       "       'medo', 'medo', 'medo', 'medo', 'medo', 'medo', 'medo', 'medo',\n",
       "       'medo', 'medo', 'medo', 'medo', 'medo', 'medo', 'medo', 'medo',\n",
       "       'medo', 'medo', 'medo', 'medo', 'medo', 'medo', 'medo', 'medo',\n",
       "       'medo', 'medo', 'medo', 'medo', 'medo', 'medo', 'medo', 'medo',\n",
       "       'medo', 'medo', 'medo', 'medo', 'medo', 'medo', 'medo', 'medo',\n",
       "       'medo', 'medo', 'medo', 'medo', 'medo', 'medo', 'medo', 'medo',\n",
       "       'medo', 'medo', 'medo', 'medo', 'medo', 'medo', 'medo', 'medo',\n",
       "       'medo', 'medo', 'medo', 'medo', 'medo', 'medo', 'medo', 'medo',\n",
       "       'medo', 'medo', 'medo', 'medo', 'medo', 'medo', 'medo', 'medo',\n",
       "       'medo', 'medo', 'medo', 'medo', 'medo', 'medo', 'medo', 'medo',\n",
       "       'medo'], dtype=object)"
      ]
     },
     "execution_count": 59,
     "metadata": {},
     "output_type": "execute_result"
    }
   ],
   "source": [
    "ans = base['emocao'].values\n",
    "ans"
   ]
  },
  {
   "cell_type": "code",
   "execution_count": 61,
   "metadata": {},
   "outputs": [
    {
     "data": {
      "text/plain": [
       "1.0"
      ]
     },
     "execution_count": 61,
     "metadata": {},
     "output_type": "execute_result"
    }
   ],
   "source": [
    "accuracy_score(ans, final_predictions)"
   ]
  },
  {
   "cell_type": "code",
   "execution_count": 62,
   "metadata": {},
   "outputs": [
    {
     "data": {
      "text/plain": [
       "array([[112,   0],\n",
       "       [  0,  84]], dtype=int64)"
      ]
     },
     "execution_count": 62,
     "metadata": {},
     "output_type": "execute_result"
    }
   ],
   "source": [
    "cm = confusion_matrix(ans, final_predictions)\n",
    "cm"
   ]
  },
  {
   "cell_type": "markdown",
   "metadata": {},
   "source": [
    "##### Test base evaluation"
   ]
  },
  {
   "cell_type": "code",
   "execution_count": 63,
   "metadata": {},
   "outputs": [],
   "source": [
    "test_base = pd.read_csv('data/feellings/base_teste.txt', encoding='utf-8')"
   ]
  },
  {
   "cell_type": "code",
   "execution_count": 64,
   "metadata": {},
   "outputs": [],
   "source": [
    "test_base['texto'] = test_base['texto'].apply(preprocessing)"
   ]
  },
  {
   "cell_type": "code",
   "execution_count": 65,
   "metadata": {},
   "outputs": [],
   "source": [
    "predictions = []\n",
    "for text in test_base['texto']:\n",
    "    prediction = loaded_model(text)\n",
    "    predictions.append(prediction.cats)"
   ]
  },
  {
   "cell_type": "code",
   "execution_count": 66,
   "metadata": {},
   "outputs": [],
   "source": [
    "final_predictions = []\n",
    "for prediction in predictions:\n",
    "    if prediction['ALEGRIA'] > prediction['MEDO']:\n",
    "        final_predictions.append('alegria')\n",
    "    else:\n",
    "        final_predictions.append('medo')\n",
    "        \n",
    "final_predictions = np.array(final_predictions)"
   ]
  },
  {
   "cell_type": "code",
   "execution_count": 67,
   "metadata": {},
   "outputs": [],
   "source": [
    "ans = test_base['emocao'].values"
   ]
  },
  {
   "cell_type": "code",
   "execution_count": 68,
   "metadata": {},
   "outputs": [
    {
     "data": {
      "text/plain": [
       "0.5595238095238095"
      ]
     },
     "execution_count": 68,
     "metadata": {},
     "output_type": "execute_result"
    }
   ],
   "source": [
    "accuracy_score(ans, final_predictions)"
   ]
  },
  {
   "cell_type": "code",
   "execution_count": 69,
   "metadata": {},
   "outputs": [
    {
     "data": {
      "text/plain": [
       "array([[34, 14],\n",
       "       [23, 13]], dtype=int64)"
      ]
     },
     "execution_count": 69,
     "metadata": {},
     "output_type": "execute_result"
    }
   ],
   "source": [
    "cm = confusion_matrix(ans, final_predictions)\n",
    "cm"
   ]
  }
 ],
 "metadata": {
  "kernelspec": {
   "display_name": "Python 3",
   "language": "python",
   "name": "python3"
  },
  "language_info": {
   "codemirror_mode": {
    "name": "ipython",
    "version": 3
   },
   "file_extension": ".py",
   "mimetype": "text/x-python",
   "name": "python",
   "nbconvert_exporter": "python",
   "pygments_lexer": "ipython3",
   "version": "3.12.3"
  }
 },
 "nbformat": 4,
 "nbformat_minor": 2
}
